{
 "metadata": {
  "language_info": {
   "codemirror_mode": {
    "name": "ipython",
    "version": 3
   },
   "file_extension": ".py",
   "mimetype": "text/x-python",
   "name": "python",
   "nbconvert_exporter": "python",
   "pygments_lexer": "ipython3",
   "version": "3.7.6-final"
  },
  "orig_nbformat": 2,
  "kernelspec": {
   "name": "Python 3.7.6 64-bit ('anaconda3': virtualenv)",
   "display_name": "Python 3.7.6 64-bit ('anaconda3': virtualenv)",
   "metadata": {
    "interpreter": {
     "hash": "e1bb0edf50e5b3d8f9735edbfe8e393c747028d16fdcf3dffb2658d1faedab56"
    }
   }
  }
 },
 "nbformat": 4,
 "nbformat_minor": 2,
 "cells": [
  {
   "cell_type": "code",
   "execution_count": null,
   "metadata": {},
   "outputs": [],
   "source": [
    "# Import dependencies\n",
    "import pandas as pd"
   ]
  },
  {
   "cell_type": "code",
   "execution_count": null,
   "metadata": {
    "tags": []
   },
   "outputs": [],
   "source": [
    "# Read in csv file\n",
    "csv_file = \"../Resources/ardd_fatal_crashes_aug2020.csv\"\n",
    "fatal_crashes_df = pd.read_csv(csv_file)\n",
    "fatal_crashes_df"
   ]
  },
  {
   "cell_type": "code",
   "execution_count": null,
   "metadata": {
    "tags": []
   },
   "outputs": [],
   "source": [
    "# Filter data by year and state (WA, 2015-2019)\n",
    "wa_five_years_fatal_crashes_df = fatal_crashes_df.loc[(fatal_crashes_df[\"Year\"]>2014)&(fatal_crashes_df[\"Year\"]<2020)&(fatal_crashes_df[\"State\"]==\"WA\")]\n",
    "wa_five_years_fatal_crashes_df.info()"
   ]
  },
  {
   "cell_type": "code",
   "execution_count": null,
   "metadata": {},
   "outputs": [],
   "source": [
    "# Drop irrelevant columns\n",
    "cleaned_wa_five_years_fatal_crashes_df = wa_five_years_fatal_crashes_df.drop([\"State\",\"Bus Involvement\",\"Heavy Rigid Truck Involvement\",\"Articulated Truck Involvement\",\"National Remoteness Areas\",\"SA4 Name 2016\",\"National LGA Name 2017\"],inplace=False,axis=1)"
   ]
  },
  {
   "cell_type": "code",
   "execution_count": null,
   "metadata": {
    "tags": []
   },
   "outputs": [],
   "source": [
    "# Final check\n",
    "fatalities_data = cleaned_wa_five_years_fatal_crashes_df\n",
    "fatalities_data.info()"
   ]
  },
  {
   "cell_type": "code",
   "execution_count": null,
   "metadata": {},
   "outputs": [],
   "source": [
    "# Print data to csv\n",
    "fatalities_data.to_csv(\"../database/fatalities_data_final.csv\")"
   ]
  }
 ]
}