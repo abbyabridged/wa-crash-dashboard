{
 "metadata": {
  "language_info": {
   "codemirror_mode": {
    "name": "ipython",
    "version": 3
   },
   "file_extension": ".py",
   "mimetype": "text/x-python",
   "name": "python",
   "nbconvert_exporter": "python",
   "pygments_lexer": "ipython3",
   "version": "3.7.6-final"
  },
  "orig_nbformat": 2,
  "kernelspec": {
   "name": "Python 3.7.6 64-bit ('base': conda)",
   "display_name": "Python 3.7.6 64-bit ('base': conda)",
   "metadata": {
    "interpreter": {
     "hash": "e1bb0edf50e5b3d8f9735edbfe8e393c747028d16fdcf3dffb2658d1faedab56"
    }
   }
  }
 },
 "nbformat": 4,
 "nbformat_minor": 2,
 "cells": [
  {
   "cell_type": "code",
   "execution_count": 1,
   "metadata": {},
   "outputs": [],
   "source": [
    "# Import dependencies\n",
    "import pandas as pd"
   ]
  },
  {
   "cell_type": "code",
   "execution_count": 2,
   "metadata": {
    "tags": []
   },
   "outputs": [
    {
     "output_type": "execute_result",
     "data": {
      "text/plain": "       Crash ID State  Month  Year   Dayweek   Time  Crash Type  \\\n0      20205010    WA      8  2020    Sunday  15:53      Single   \n1      20205030    WA      8  2020   Tuesday  17:00    Multiple   \n2      20201104   NSW      8  2020    Monday  16:30    Multiple   \n3      20201105   NSW      8  2020    Monday   9:20      Single   \n4      20201111   NSW      8  2020  Saturday   2:12      Single   \n...         ...   ...    ...   ...       ...    ...         ...   \n46450  19891498   NSW      1  1989    Sunday  14:35    Multiple   \n46451  19893020   Qld      1  1989    Sunday   4:00  Pedestrian   \n46452  19893344   Qld      1  1989    Sunday   1:00      Single   \n46453  19893229   Qld      1  1989    Sunday  17:00  Pedestrian   \n46454  19892467   Vic      1  1989    Sunday   1:15      Single   \n\n       Number Fatalities Bus Involvement Heavy Rigid Truck Involvement  \\\n0                      1              No                            No   \n1                      1              No                            No   \n2                      1              No                            No   \n3                      1              No                            No   \n4                      1              No                            No   \n...                  ...             ...                           ...   \n46450                  3              No                            -9   \n46451                  1              No                            -9   \n46452                  1              No                            -9   \n46453                  1              No                            -9   \n46454                  1              No                            No   \n\n      Articulated Truck Involvement Speed Limit  National Remoteness Areas  \\\n0                                No          80                        NaN   \n1                                No          80                        NaN   \n2                                No          60   Inner Regional Australia   \n3                                No         100  Major Cities of Australia   \n4                                No          60  Major Cities of Australia   \n...                             ...         ...                        ...   \n46450                            No          80                        NaN   \n46451                            No          60                        NaN   \n46452                            No          60                        NaN   \n46453                            No          60                        NaN   \n46454                            No         100                        NaN   \n\n                   SA4 Name 2016 National LGA Name 2017  \\\n0                            NaN                    NaN   \n1                            NaN                    NaN   \n2                       Riverina            Wagga Wagga   \n3                  Sydney - Ryde                Hornsby   \n4      Sydney - Inner South West          Georges River   \n...                          ...                    ...   \n46450                        NaN                    NaN   \n46451                        NaN                    NaN   \n46452                        NaN                    NaN   \n46453                        NaN                    NaN   \n46454                        NaN                    NaN   \n\n              National Road Type Christmas Period Easter Period Day of week  \\\n0                            NaN               No            No     Weekend   \n1                            NaN               No            No     Weekday   \n2                     Local Road               No            No     Weekday   \n3      National or State Highway               No            No     Weekday   \n4                  Arterial Road               No            No     Weekend   \n...                          ...              ...           ...         ...   \n46450                        NaN              Yes            No     Weekend   \n46451                        NaN              Yes            No     Weekend   \n46452                        NaN              Yes            No     Weekend   \n46453                        NaN              Yes            No     Weekend   \n46454                        NaN              Yes            No     Weekend   \n\n      Time of Day  \n0             Day  \n1             Day  \n2             Day  \n3             Day  \n4           Night  \n...           ...  \n46450         Day  \n46451       Night  \n46452       Night  \n46453         Day  \n46454       Night  \n\n[46455 rows x 20 columns]",
      "text/html": "<div>\n<style scoped>\n    .dataframe tbody tr th:only-of-type {\n        vertical-align: middle;\n    }\n\n    .dataframe tbody tr th {\n        vertical-align: top;\n    }\n\n    .dataframe thead th {\n        text-align: right;\n    }\n</style>\n<table border=\"1\" class=\"dataframe\">\n  <thead>\n    <tr style=\"text-align: right;\">\n      <th></th>\n      <th>Crash ID</th>\n      <th>State</th>\n      <th>Month</th>\n      <th>Year</th>\n      <th>Dayweek</th>\n      <th>Time</th>\n      <th>Crash Type</th>\n      <th>Number Fatalities</th>\n      <th>Bus Involvement</th>\n      <th>Heavy Rigid Truck Involvement</th>\n      <th>Articulated Truck Involvement</th>\n      <th>Speed Limit</th>\n      <th>National Remoteness Areas</th>\n      <th>SA4 Name 2016</th>\n      <th>National LGA Name 2017</th>\n      <th>National Road Type</th>\n      <th>Christmas Period</th>\n      <th>Easter Period</th>\n      <th>Day of week</th>\n      <th>Time of Day</th>\n    </tr>\n  </thead>\n  <tbody>\n    <tr>\n      <th>0</th>\n      <td>20205010</td>\n      <td>WA</td>\n      <td>8</td>\n      <td>2020</td>\n      <td>Sunday</td>\n      <td>15:53</td>\n      <td>Single</td>\n      <td>1</td>\n      <td>No</td>\n      <td>No</td>\n      <td>No</td>\n      <td>80</td>\n      <td>NaN</td>\n      <td>NaN</td>\n      <td>NaN</td>\n      <td>NaN</td>\n      <td>No</td>\n      <td>No</td>\n      <td>Weekend</td>\n      <td>Day</td>\n    </tr>\n    <tr>\n      <th>1</th>\n      <td>20205030</td>\n      <td>WA</td>\n      <td>8</td>\n      <td>2020</td>\n      <td>Tuesday</td>\n      <td>17:00</td>\n      <td>Multiple</td>\n      <td>1</td>\n      <td>No</td>\n      <td>No</td>\n      <td>No</td>\n      <td>80</td>\n      <td>NaN</td>\n      <td>NaN</td>\n      <td>NaN</td>\n      <td>NaN</td>\n      <td>No</td>\n      <td>No</td>\n      <td>Weekday</td>\n      <td>Day</td>\n    </tr>\n    <tr>\n      <th>2</th>\n      <td>20201104</td>\n      <td>NSW</td>\n      <td>8</td>\n      <td>2020</td>\n      <td>Monday</td>\n      <td>16:30</td>\n      <td>Multiple</td>\n      <td>1</td>\n      <td>No</td>\n      <td>No</td>\n      <td>No</td>\n      <td>60</td>\n      <td>Inner Regional Australia</td>\n      <td>Riverina</td>\n      <td>Wagga Wagga</td>\n      <td>Local Road</td>\n      <td>No</td>\n      <td>No</td>\n      <td>Weekday</td>\n      <td>Day</td>\n    </tr>\n    <tr>\n      <th>3</th>\n      <td>20201105</td>\n      <td>NSW</td>\n      <td>8</td>\n      <td>2020</td>\n      <td>Monday</td>\n      <td>9:20</td>\n      <td>Single</td>\n      <td>1</td>\n      <td>No</td>\n      <td>No</td>\n      <td>No</td>\n      <td>100</td>\n      <td>Major Cities of Australia</td>\n      <td>Sydney - Ryde</td>\n      <td>Hornsby</td>\n      <td>National or State Highway</td>\n      <td>No</td>\n      <td>No</td>\n      <td>Weekday</td>\n      <td>Day</td>\n    </tr>\n    <tr>\n      <th>4</th>\n      <td>20201111</td>\n      <td>NSW</td>\n      <td>8</td>\n      <td>2020</td>\n      <td>Saturday</td>\n      <td>2:12</td>\n      <td>Single</td>\n      <td>1</td>\n      <td>No</td>\n      <td>No</td>\n      <td>No</td>\n      <td>60</td>\n      <td>Major Cities of Australia</td>\n      <td>Sydney - Inner South West</td>\n      <td>Georges River</td>\n      <td>Arterial Road</td>\n      <td>No</td>\n      <td>No</td>\n      <td>Weekend</td>\n      <td>Night</td>\n    </tr>\n    <tr>\n      <th>...</th>\n      <td>...</td>\n      <td>...</td>\n      <td>...</td>\n      <td>...</td>\n      <td>...</td>\n      <td>...</td>\n      <td>...</td>\n      <td>...</td>\n      <td>...</td>\n      <td>...</td>\n      <td>...</td>\n      <td>...</td>\n      <td>...</td>\n      <td>...</td>\n      <td>...</td>\n      <td>...</td>\n      <td>...</td>\n      <td>...</td>\n      <td>...</td>\n      <td>...</td>\n    </tr>\n    <tr>\n      <th>46450</th>\n      <td>19891498</td>\n      <td>NSW</td>\n      <td>1</td>\n      <td>1989</td>\n      <td>Sunday</td>\n      <td>14:35</td>\n      <td>Multiple</td>\n      <td>3</td>\n      <td>No</td>\n      <td>-9</td>\n      <td>No</td>\n      <td>80</td>\n      <td>NaN</td>\n      <td>NaN</td>\n      <td>NaN</td>\n      <td>NaN</td>\n      <td>Yes</td>\n      <td>No</td>\n      <td>Weekend</td>\n      <td>Day</td>\n    </tr>\n    <tr>\n      <th>46451</th>\n      <td>19893020</td>\n      <td>Qld</td>\n      <td>1</td>\n      <td>1989</td>\n      <td>Sunday</td>\n      <td>4:00</td>\n      <td>Pedestrian</td>\n      <td>1</td>\n      <td>No</td>\n      <td>-9</td>\n      <td>No</td>\n      <td>60</td>\n      <td>NaN</td>\n      <td>NaN</td>\n      <td>NaN</td>\n      <td>NaN</td>\n      <td>Yes</td>\n      <td>No</td>\n      <td>Weekend</td>\n      <td>Night</td>\n    </tr>\n    <tr>\n      <th>46452</th>\n      <td>19893344</td>\n      <td>Qld</td>\n      <td>1</td>\n      <td>1989</td>\n      <td>Sunday</td>\n      <td>1:00</td>\n      <td>Single</td>\n      <td>1</td>\n      <td>No</td>\n      <td>-9</td>\n      <td>No</td>\n      <td>60</td>\n      <td>NaN</td>\n      <td>NaN</td>\n      <td>NaN</td>\n      <td>NaN</td>\n      <td>Yes</td>\n      <td>No</td>\n      <td>Weekend</td>\n      <td>Night</td>\n    </tr>\n    <tr>\n      <th>46453</th>\n      <td>19893229</td>\n      <td>Qld</td>\n      <td>1</td>\n      <td>1989</td>\n      <td>Sunday</td>\n      <td>17:00</td>\n      <td>Pedestrian</td>\n      <td>1</td>\n      <td>No</td>\n      <td>-9</td>\n      <td>No</td>\n      <td>60</td>\n      <td>NaN</td>\n      <td>NaN</td>\n      <td>NaN</td>\n      <td>NaN</td>\n      <td>Yes</td>\n      <td>No</td>\n      <td>Weekend</td>\n      <td>Day</td>\n    </tr>\n    <tr>\n      <th>46454</th>\n      <td>19892467</td>\n      <td>Vic</td>\n      <td>1</td>\n      <td>1989</td>\n      <td>Sunday</td>\n      <td>1:15</td>\n      <td>Single</td>\n      <td>1</td>\n      <td>No</td>\n      <td>No</td>\n      <td>No</td>\n      <td>100</td>\n      <td>NaN</td>\n      <td>NaN</td>\n      <td>NaN</td>\n      <td>NaN</td>\n      <td>Yes</td>\n      <td>No</td>\n      <td>Weekend</td>\n      <td>Night</td>\n    </tr>\n  </tbody>\n</table>\n<p>46455 rows × 20 columns</p>\n</div>"
     },
     "metadata": {},
     "execution_count": 2
    }
   ],
   "source": [
    "# Read in csv file\n",
    "csv_file = \"Resources/ardd_fatal_crashes_aug2020.csv\"\n",
    "fatal_crashes_df = pd.read_csv(csv_file)\n",
    "fatal_crashes_df"
   ]
  },
  {
   "cell_type": "code",
   "execution_count": 3,
   "metadata": {
    "tags": []
   },
   "outputs": [
    {
     "output_type": "stream",
     "name": "stdout",
     "text": "&lt;class &#39;pandas.core.frame.DataFrame&#39;&gt;\nInt64Index: 760 entries, 685 to 6240\nData columns (total 20 columns):\n #   Column                         Non-Null Count  Dtype \n---  ------                         --------------  ----- \n 0   Crash ID                       760 non-null    int64 \n 1   State                          760 non-null    object\n 2   Month                          760 non-null    int64 \n 3   Year                           760 non-null    int64 \n 4   Dayweek                        760 non-null    object\n 5   Time                           760 non-null    object\n 6   Crash Type                     760 non-null    object\n 7   Number Fatalities              760 non-null    int64 \n 8   Bus Involvement                760 non-null    object\n 9   Heavy Rigid Truck Involvement  760 non-null    object\n 10  Articulated Truck Involvement  760 non-null    object\n 11  Speed Limit                    760 non-null    object\n 12  National Remoteness Areas      685 non-null    object\n 13  SA4 Name 2016                  695 non-null    object\n 14  National LGA Name 2017         691 non-null    object\n 15  National Road Type             684 non-null    object\n 16  Christmas Period               760 non-null    object\n 17  Easter Period                  760 non-null    object\n 18  Day of week                    760 non-null    object\n 19  Time of Day                    760 non-null    object\ndtypes: int64(4), object(16)\nmemory usage: 124.7+ KB\n"
    }
   ],
   "source": [
    "# Filter data by year and state (WA, 2015-2019)\n",
    "wa_five_years_fatal_crashes_df = fatal_crashes_df.loc[(fatal_crashes_df[\"Year\"]>2014)&(fatal_crashes_df[\"Year\"]<2020)&(fatal_crashes_df[\"State\"]==\"WA\")]\n",
    "wa_five_years_fatal_crashes_df.info()"
   ]
  },
  {
   "cell_type": "code",
   "execution_count": 4,
   "metadata": {},
   "outputs": [],
   "source": [
    "# Drop irrelevant columns\n",
    "cleaned_wa_five_years_fatal_crashes_df = wa_five_years_fatal_crashes_df.drop([\"State\",\"Bus Involvement\",\"Heavy Rigid Truck Involvement\",\"Articulated Truck Involvement\",\"National Remoteness Areas\",\"SA4 Name 2016\",\"National LGA Name 2017\"],inplace=False,axis=1)"
   ]
  },
  {
   "cell_type": "code",
   "execution_count": 5,
   "metadata": {
    "tags": []
   },
   "outputs": [
    {
     "output_type": "stream",
     "name": "stdout",
     "text": "&lt;class &#39;pandas.core.frame.DataFrame&#39;&gt;\nInt64Index: 760 entries, 685 to 6240\nData columns (total 13 columns):\n #   Column              Non-Null Count  Dtype \n---  ------              --------------  ----- \n 0   Crash ID            760 non-null    int64 \n 1   Month               760 non-null    int64 \n 2   Year                760 non-null    int64 \n 3   Dayweek             760 non-null    object\n 4   Time                760 non-null    object\n 5   Crash Type          760 non-null    object\n 6   Number Fatalities   760 non-null    int64 \n 7   Speed Limit         760 non-null    object\n 8   National Road Type  684 non-null    object\n 9   Christmas Period    760 non-null    object\n 10  Easter Period       760 non-null    object\n 11  Day of week         760 non-null    object\n 12  Time of Day         760 non-null    object\ndtypes: int64(4), object(9)\nmemory usage: 83.1+ KB\n"
    }
   ],
   "source": [
    "# Final check\n",
    "fatalities_data = cleaned_wa_five_years_fatal_crashes_df\n",
    "fatalities_data.info()"
   ]
  },
  {
   "cell_type": "code",
   "execution_count": 6,
   "metadata": {},
   "outputs": [],
   "source": [
    "# Print data to csv\n",
    "fatalities_data.to_csv(\"fatalities_data.csv\")"
   ]
  }
 ]
}