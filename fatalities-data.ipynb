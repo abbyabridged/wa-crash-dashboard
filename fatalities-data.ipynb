{
 "metadata": {
  "language_info": {
   "codemirror_mode": {
    "name": "ipython",
    "version": 3
   },
   "file_extension": ".py",
   "mimetype": "text/x-python",
   "name": "python",
   "nbconvert_exporter": "python",
   "pygments_lexer": "ipython3",
   "version": "3.7.6-final"
  },
  "orig_nbformat": 2,
  "kernelspec": {
   "name": "Python 3.7.6 64-bit ('anaconda3': virtualenv)",
   "display_name": "Python 3.7.6 64-bit ('anaconda3': virtualenv)",
   "metadata": {
    "interpreter": {
     "hash": "e1bb0edf50e5b3d8f9735edbfe8e393c747028d16fdcf3dffb2658d1faedab56"
    }
   }
  }
 },
 "nbformat": 4,
 "nbformat_minor": 2,
 "cells": [
  {
   "cell_type": "code",
   "execution_count": 1,
   "metadata": {},
   "outputs": [],
   "source": [
    "import pandas as pd"
   ]
  },
  {
   "cell_type": "code",
   "execution_count": 10,
   "metadata": {
    "tags": []
   },
   "outputs": [
    {
     "output_type": "execute_result",
     "data": {
      "text/plain": "   Crash ID State  Month  Year   Dayweek   Time Crash Type  Number Fatalities  \\\n0  20205010    WA      8  2020    Sunday  15:53     Single                  1   \n1  20205030    WA      8  2020   Tuesday  17:00   Multiple                  1   \n2  20201104   NSW      8  2020    Monday  16:30   Multiple                  1   \n3  20201105   NSW      8  2020    Monday  09:20     Single                  1   \n4  20201111   NSW      8  2020  Saturday  02:12     Single                  1   \n\n  Bus \\nInvolvement Heavy Rigid Truck Involvement  \\\n0                No                            No   \n1                No                            No   \n2                No                            No   \n3                No                            No   \n4                No                            No   \n\n  Articulated Truck Involvement Speed Limit  National Remoteness Areas  \\\n0                            No          80                        NaN   \n1                            No          80                        NaN   \n2                            No          60   Inner Regional Australia   \n3                            No         100  Major Cities of Australia   \n4                            No          60  Major Cities of Australia   \n\n               SA4 Name 2016 National LGA Name 2017  \\\n0                        NaN                    NaN   \n1                        NaN                    NaN   \n2                   Riverina            Wagga Wagga   \n3              Sydney - Ryde                Hornsby   \n4  Sydney - Inner South West          Georges River   \n\n          National Road Type Christmas Period Easter Period Day of week  \\\n0                        NaN               No            No     Weekend   \n1                        NaN               No            No     Weekday   \n2                 Local Road               No            No     Weekday   \n3  National or State Highway               No            No     Weekday   \n4              Arterial Road               No            No     Weekend   \n\n  Time of Day  \n0         Day  \n1         Day  \n2         Day  \n3         Day  \n4       Night  ",
      "text/html": "<div>\n<style scoped>\n    .dataframe tbody tr th:only-of-type {\n        vertical-align: middle;\n    }\n\n    .dataframe tbody tr th {\n        vertical-align: top;\n    }\n\n    .dataframe thead th {\n        text-align: right;\n    }\n</style>\n<table border=\"1\" class=\"dataframe\">\n  <thead>\n    <tr style=\"text-align: right;\">\n      <th></th>\n      <th>Crash ID</th>\n      <th>State</th>\n      <th>Month</th>\n      <th>Year</th>\n      <th>Dayweek</th>\n      <th>Time</th>\n      <th>Crash Type</th>\n      <th>Number Fatalities</th>\n      <th>Bus \\nInvolvement</th>\n      <th>Heavy Rigid Truck Involvement</th>\n      <th>Articulated Truck Involvement</th>\n      <th>Speed Limit</th>\n      <th>National Remoteness Areas</th>\n      <th>SA4 Name 2016</th>\n      <th>National LGA Name 2017</th>\n      <th>National Road Type</th>\n      <th>Christmas Period</th>\n      <th>Easter Period</th>\n      <th>Day of week</th>\n      <th>Time of Day</th>\n    </tr>\n  </thead>\n  <tbody>\n    <tr>\n      <th>0</th>\n      <td>20205010</td>\n      <td>WA</td>\n      <td>8</td>\n      <td>2020</td>\n      <td>Sunday</td>\n      <td>15:53</td>\n      <td>Single</td>\n      <td>1</td>\n      <td>No</td>\n      <td>No</td>\n      <td>No</td>\n      <td>80</td>\n      <td>NaN</td>\n      <td>NaN</td>\n      <td>NaN</td>\n      <td>NaN</td>\n      <td>No</td>\n      <td>No</td>\n      <td>Weekend</td>\n      <td>Day</td>\n    </tr>\n    <tr>\n      <th>1</th>\n      <td>20205030</td>\n      <td>WA</td>\n      <td>8</td>\n      <td>2020</td>\n      <td>Tuesday</td>\n      <td>17:00</td>\n      <td>Multiple</td>\n      <td>1</td>\n      <td>No</td>\n      <td>No</td>\n      <td>No</td>\n      <td>80</td>\n      <td>NaN</td>\n      <td>NaN</td>\n      <td>NaN</td>\n      <td>NaN</td>\n      <td>No</td>\n      <td>No</td>\n      <td>Weekday</td>\n      <td>Day</td>\n    </tr>\n    <tr>\n      <th>2</th>\n      <td>20201104</td>\n      <td>NSW</td>\n      <td>8</td>\n      <td>2020</td>\n      <td>Monday</td>\n      <td>16:30</td>\n      <td>Multiple</td>\n      <td>1</td>\n      <td>No</td>\n      <td>No</td>\n      <td>No</td>\n      <td>60</td>\n      <td>Inner Regional Australia</td>\n      <td>Riverina</td>\n      <td>Wagga Wagga</td>\n      <td>Local Road</td>\n      <td>No</td>\n      <td>No</td>\n      <td>Weekday</td>\n      <td>Day</td>\n    </tr>\n    <tr>\n      <th>3</th>\n      <td>20201105</td>\n      <td>NSW</td>\n      <td>8</td>\n      <td>2020</td>\n      <td>Monday</td>\n      <td>09:20</td>\n      <td>Single</td>\n      <td>1</td>\n      <td>No</td>\n      <td>No</td>\n      <td>No</td>\n      <td>100</td>\n      <td>Major Cities of Australia</td>\n      <td>Sydney - Ryde</td>\n      <td>Hornsby</td>\n      <td>National or State Highway</td>\n      <td>No</td>\n      <td>No</td>\n      <td>Weekday</td>\n      <td>Day</td>\n    </tr>\n    <tr>\n      <th>4</th>\n      <td>20201111</td>\n      <td>NSW</td>\n      <td>8</td>\n      <td>2020</td>\n      <td>Saturday</td>\n      <td>02:12</td>\n      <td>Single</td>\n      <td>1</td>\n      <td>No</td>\n      <td>No</td>\n      <td>No</td>\n      <td>60</td>\n      <td>Major Cities of Australia</td>\n      <td>Sydney - Inner South West</td>\n      <td>Georges River</td>\n      <td>Arterial Road</td>\n      <td>No</td>\n      <td>No</td>\n      <td>Weekend</td>\n      <td>Night</td>\n    </tr>\n  </tbody>\n</table>\n</div>"
     },
     "metadata": {},
     "execution_count": 10
    }
   ],
   "source": [
    "csv_file = \"Resources/ardd_fatal_crashes_aug2020.csv\"\n",
    "fatal_crashes_df = pd.read_csv(csv_file)\n",
    "fatal_crashes_df.head()"
   ]
  },
  {
   "cell_type": "code",
   "execution_count": 9,
   "metadata": {},
   "outputs": [
    {
     "output_type": "execute_result",
     "data": {
      "text/plain": "      Crash ID State  Month  Year    Dayweek   Time Crash Type  \\\n0     20205010    WA      8  2020     Sunday  15:53     Single   \n1     20205030    WA      8  2020    Tuesday  17:00   Multiple   \n9     20205063    WA      8  2020     Friday  08:59   Multiple   \n14    20205018    WA      8  2020   Thursday  21:55     Single   \n23    20205036    WA      8  2020  Wednesday  14:35     Single   \n...        ...   ...    ...   ...        ...    ...        ...   \n6208  20155066    WA      1  2015   Thursday  17:38   Multiple   \n6213  20155098    WA      1  2015    Tuesday  18:04   Multiple   \n6231  20155079    WA      1  2015     Monday  16:00     Single   \n6233  20155115    WA      1  2015     Sunday  22:20   Multiple   \n6240  20155082    WA      1  2015   Thursday  21:45     Single   \n\n      Number Fatalities Bus \\nInvolvement Heavy Rigid Truck Involvement  \\\n0                     1                No                            No   \n1                     1                No                            No   \n9                     1                No                            No   \n14                    1                No                            No   \n23                    1                No                            No   \n...                 ...               ...                           ...   \n6208                  1                No                            No   \n6213                  1                No                           Yes   \n6231                  1                No                            No   \n6233                  1                No                            No   \n6240                  1                No                            No   \n\n     Articulated Truck Involvement Speed Limit  National Remoteness Areas  \\\n0                               No          80                        NaN   \n1                               No          80                        NaN   \n9                               No         100                        NaN   \n14                              No          90                        NaN   \n23                              No          -9                        NaN   \n...                            ...         ...                        ...   \n6208                           Yes         110   Outer Regional Australia   \n6213                            No         100  Major Cities of Australia   \n6231                            No          80   Outer Regional Australia   \n6233                            No          70  Major Cities of Australia   \n6240                            No         110   Inner Regional Australia   \n\n                       SA4 Name 2016 National LGA Name 2017  \\\n0                                NaN                    NaN   \n1                                NaN                    NaN   \n9                                NaN                    NaN   \n14                               NaN                    NaN   \n23                               NaN                    NaN   \n...                              ...                    ...   \n6208  Western Australia - Wheat Belt          Wandering (S)   \n6213              Perth - South West           Melville (C)   \n6231  Western Australia - Wheat Belt           Brookton (S)   \n6233              Perth - North West           Stirling (C)   \n6240                         Bunbury             Harvey (S)   \n\n             National Road Type Christmas Period Easter Period Day of week  \\\n0                           NaN               No            No     Weekend   \n1                           NaN               No            No     Weekday   \n9                           NaN               No            No     Weekday   \n14                          NaN               No            No     Weekday   \n23                          NaN               No            No     Weekday   \n...                         ...              ...           ...         ...   \n6208  NATIONAL OR STATE HIGHWAY               No            No     Weekday   \n6213  NATIONAL OR STATE HIGHWAY               No            No     Weekday   \n6231                 LOCAL ROAD               No            No     Weekday   \n6233  NATIONAL OR STATE HIGHWAY               No            No     Weekend   \n6240  NATIONAL OR STATE HIGHWAY              Yes            No     Weekday   \n\n     Time of Day  \n0            Day  \n1            Day  \n9            Day  \n14         Night  \n23           Day  \n...          ...  \n6208         Day  \n6213       Night  \n6231         Day  \n6233       Night  \n6240       Night  \n\n[846 rows x 20 columns]",
      "text/html": "<div>\n<style scoped>\n    .dataframe tbody tr th:only-of-type {\n        vertical-align: middle;\n    }\n\n    .dataframe tbody tr th {\n        vertical-align: top;\n    }\n\n    .dataframe thead th {\n        text-align: right;\n    }\n</style>\n<table border=\"1\" class=\"dataframe\">\n  <thead>\n    <tr style=\"text-align: right;\">\n      <th></th>\n      <th>Crash ID</th>\n      <th>State</th>\n      <th>Month</th>\n      <th>Year</th>\n      <th>Dayweek</th>\n      <th>Time</th>\n      <th>Crash Type</th>\n      <th>Number Fatalities</th>\n      <th>Bus \\nInvolvement</th>\n      <th>Heavy Rigid Truck Involvement</th>\n      <th>Articulated Truck Involvement</th>\n      <th>Speed Limit</th>\n      <th>National Remoteness Areas</th>\n      <th>SA4 Name 2016</th>\n      <th>National LGA Name 2017</th>\n      <th>National Road Type</th>\n      <th>Christmas Period</th>\n      <th>Easter Period</th>\n      <th>Day of week</th>\n      <th>Time of Day</th>\n    </tr>\n  </thead>\n  <tbody>\n    <tr>\n      <th>0</th>\n      <td>20205010</td>\n      <td>WA</td>\n      <td>8</td>\n      <td>2020</td>\n      <td>Sunday</td>\n      <td>15:53</td>\n      <td>Single</td>\n      <td>1</td>\n      <td>No</td>\n      <td>No</td>\n      <td>No</td>\n      <td>80</td>\n      <td>NaN</td>\n      <td>NaN</td>\n      <td>NaN</td>\n      <td>NaN</td>\n      <td>No</td>\n      <td>No</td>\n      <td>Weekend</td>\n      <td>Day</td>\n    </tr>\n    <tr>\n      <th>1</th>\n      <td>20205030</td>\n      <td>WA</td>\n      <td>8</td>\n      <td>2020</td>\n      <td>Tuesday</td>\n      <td>17:00</td>\n      <td>Multiple</td>\n      <td>1</td>\n      <td>No</td>\n      <td>No</td>\n      <td>No</td>\n      <td>80</td>\n      <td>NaN</td>\n      <td>NaN</td>\n      <td>NaN</td>\n      <td>NaN</td>\n      <td>No</td>\n      <td>No</td>\n      <td>Weekday</td>\n      <td>Day</td>\n    </tr>\n    <tr>\n      <th>9</th>\n      <td>20205063</td>\n      <td>WA</td>\n      <td>8</td>\n      <td>2020</td>\n      <td>Friday</td>\n      <td>08:59</td>\n      <td>Multiple</td>\n      <td>1</td>\n      <td>No</td>\n      <td>No</td>\n      <td>No</td>\n      <td>100</td>\n      <td>NaN</td>\n      <td>NaN</td>\n      <td>NaN</td>\n      <td>NaN</td>\n      <td>No</td>\n      <td>No</td>\n      <td>Weekday</td>\n      <td>Day</td>\n    </tr>\n    <tr>\n      <th>14</th>\n      <td>20205018</td>\n      <td>WA</td>\n      <td>8</td>\n      <td>2020</td>\n      <td>Thursday</td>\n      <td>21:55</td>\n      <td>Single</td>\n      <td>1</td>\n      <td>No</td>\n      <td>No</td>\n      <td>No</td>\n      <td>90</td>\n      <td>NaN</td>\n      <td>NaN</td>\n      <td>NaN</td>\n      <td>NaN</td>\n      <td>No</td>\n      <td>No</td>\n      <td>Weekday</td>\n      <td>Night</td>\n    </tr>\n    <tr>\n      <th>23</th>\n      <td>20205036</td>\n      <td>WA</td>\n      <td>8</td>\n      <td>2020</td>\n      <td>Wednesday</td>\n      <td>14:35</td>\n      <td>Single</td>\n      <td>1</td>\n      <td>No</td>\n      <td>No</td>\n      <td>No</td>\n      <td>-9</td>\n      <td>NaN</td>\n      <td>NaN</td>\n      <td>NaN</td>\n      <td>NaN</td>\n      <td>No</td>\n      <td>No</td>\n      <td>Weekday</td>\n      <td>Day</td>\n    </tr>\n    <tr>\n      <th>...</th>\n      <td>...</td>\n      <td>...</td>\n      <td>...</td>\n      <td>...</td>\n      <td>...</td>\n      <td>...</td>\n      <td>...</td>\n      <td>...</td>\n      <td>...</td>\n      <td>...</td>\n      <td>...</td>\n      <td>...</td>\n      <td>...</td>\n      <td>...</td>\n      <td>...</td>\n      <td>...</td>\n      <td>...</td>\n      <td>...</td>\n      <td>...</td>\n      <td>...</td>\n    </tr>\n    <tr>\n      <th>6208</th>\n      <td>20155066</td>\n      <td>WA</td>\n      <td>1</td>\n      <td>2015</td>\n      <td>Thursday</td>\n      <td>17:38</td>\n      <td>Multiple</td>\n      <td>1</td>\n      <td>No</td>\n      <td>No</td>\n      <td>Yes</td>\n      <td>110</td>\n      <td>Outer Regional Australia</td>\n      <td>Western Australia - Wheat Belt</td>\n      <td>Wandering (S)</td>\n      <td>NATIONAL OR STATE HIGHWAY</td>\n      <td>No</td>\n      <td>No</td>\n      <td>Weekday</td>\n      <td>Day</td>\n    </tr>\n    <tr>\n      <th>6213</th>\n      <td>20155098</td>\n      <td>WA</td>\n      <td>1</td>\n      <td>2015</td>\n      <td>Tuesday</td>\n      <td>18:04</td>\n      <td>Multiple</td>\n      <td>1</td>\n      <td>No</td>\n      <td>Yes</td>\n      <td>No</td>\n      <td>100</td>\n      <td>Major Cities of Australia</td>\n      <td>Perth - South West</td>\n      <td>Melville (C)</td>\n      <td>NATIONAL OR STATE HIGHWAY</td>\n      <td>No</td>\n      <td>No</td>\n      <td>Weekday</td>\n      <td>Night</td>\n    </tr>\n    <tr>\n      <th>6231</th>\n      <td>20155079</td>\n      <td>WA</td>\n      <td>1</td>\n      <td>2015</td>\n      <td>Monday</td>\n      <td>16:00</td>\n      <td>Single</td>\n      <td>1</td>\n      <td>No</td>\n      <td>No</td>\n      <td>No</td>\n      <td>80</td>\n      <td>Outer Regional Australia</td>\n      <td>Western Australia - Wheat Belt</td>\n      <td>Brookton (S)</td>\n      <td>LOCAL ROAD</td>\n      <td>No</td>\n      <td>No</td>\n      <td>Weekday</td>\n      <td>Day</td>\n    </tr>\n    <tr>\n      <th>6233</th>\n      <td>20155115</td>\n      <td>WA</td>\n      <td>1</td>\n      <td>2015</td>\n      <td>Sunday</td>\n      <td>22:20</td>\n      <td>Multiple</td>\n      <td>1</td>\n      <td>No</td>\n      <td>No</td>\n      <td>No</td>\n      <td>70</td>\n      <td>Major Cities of Australia</td>\n      <td>Perth - North West</td>\n      <td>Stirling (C)</td>\n      <td>NATIONAL OR STATE HIGHWAY</td>\n      <td>No</td>\n      <td>No</td>\n      <td>Weekend</td>\n      <td>Night</td>\n    </tr>\n    <tr>\n      <th>6240</th>\n      <td>20155082</td>\n      <td>WA</td>\n      <td>1</td>\n      <td>2015</td>\n      <td>Thursday</td>\n      <td>21:45</td>\n      <td>Single</td>\n      <td>1</td>\n      <td>No</td>\n      <td>No</td>\n      <td>No</td>\n      <td>110</td>\n      <td>Inner Regional Australia</td>\n      <td>Bunbury</td>\n      <td>Harvey (S)</td>\n      <td>NATIONAL OR STATE HIGHWAY</td>\n      <td>Yes</td>\n      <td>No</td>\n      <td>Weekday</td>\n      <td>Night</td>\n    </tr>\n  </tbody>\n</table>\n<p>846 rows × 20 columns</p>\n</div>"
     },
     "metadata": {},
     "execution_count": 9
    }
   ],
   "source": [
    "wa_five_years_fatal_crashes_df = fatal_crashes_df.loc[(fatal_crashes_df[\"Year\"]>2014)&(fatal_crashes_df[\"State\"]==\"WA\")]\n",
    "wa_five_years_fatal_crashes_df"
   ]
  },
  {
   "cell_type": "code",
   "execution_count": null,
   "metadata": {},
   "outputs": [],
   "source": []
  },
  {
   "cell_type": "code",
   "execution_count": 11,
   "metadata": {
    "tags": []
   },
   "outputs": [
    {
     "output_type": "stream",
     "name": "stdout",
     "text": "<class 'pandas.core.frame.DataFrame'>\nInt64Index: 846 entries, 0 to 6240\nData columns (total 20 columns):\n #   Column                         Non-Null Count  Dtype \n---  ------                         --------------  ----- \n 0   Crash ID                       846 non-null    int64 \n 1   State                          846 non-null    object\n 2   Month                          846 non-null    int64 \n 3   Year                           846 non-null    int64 \n 4   Dayweek                        846 non-null    object\n 5   Time                           846 non-null    object\n 6   Crash Type                     846 non-null    object\n 7   Number Fatalities              846 non-null    int64 \n 8   Bus \nInvolvement               846 non-null    object\n 9   Heavy Rigid Truck Involvement  846 non-null    object\n 10  Articulated Truck Involvement  846 non-null    object\n 11  Speed Limit                    846 non-null    object\n 12  National Remoteness Areas      685 non-null    object\n 13  SA4 Name 2016                  695 non-null    object\n 14  National LGA Name 2017         691 non-null    object\n 15  National Road Type             684 non-null    object\n 16  Christmas Period               846 non-null    object\n 17  Easter Period                  846 non-null    object\n 18  Day of week                    846 non-null    object\n 19  Time of Day                    846 non-null    object\ndtypes: int64(4), object(16)\nmemory usage: 178.8+ KB\n"
    }
   ],
   "source": [
    "fatalities_data = wa_five_years_fatal_crashes_df\n",
    "fatalities_data.info()"
   ]
  },
  {
   "cell_type": "code",
   "execution_count": null,
   "metadata": {},
   "outputs": [],
   "source": []
  }
 ]
}