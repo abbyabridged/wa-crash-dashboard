{
 "metadata": {
  "language_info": {
   "codemirror_mode": {
    "name": "ipython",
    "version": 3
   },
   "file_extension": ".py",
   "mimetype": "text/x-python",
   "name": "python",
   "nbconvert_exporter": "python",
   "pygments_lexer": "ipython3",
   "version": "3.7.7-final"
  },
  "orig_nbformat": 2,
  "kernelspec": {
   "name": "Python 3.7.7 64-bit ('base': conda)",
   "display_name": "Python 3.7.7 64-bit ('base': conda)",
   "metadata": {
    "interpreter": {
     "hash": "89a0b202a8144c22129edde4541b47c913a724a744eb71851a418ed1250d89e1"
    }
   }
  }
 },
 "nbformat": 4,
 "nbformat_minor": 2,
 "cells": [
  {
   "source": [
    "# Import dependencies\n",
    "import pandas as pd\n",
    "import numpy as np"
   ],
   "cell_type": "code",
   "metadata": {},
   "execution_count": 1,
   "outputs": []
  },
  {
   "cell_type": "code",
   "execution_count": 2,
   "metadata": {
    "tags": []
   },
   "outputs": [
    {
     "output_type": "stream",
     "name": "stdout",
     "text": "&lt;class &#39;pandas.core.frame.DataFrame&#39;&gt;\nRangeIndex: 145592 entries, 0 to 145591\nData columns (total 25 columns):\n #   Column                         Non-Null Count   Dtype  \n---  ------                         --------------   -----  \n 0   X                              145592 non-null  float64\n 1   Y                              145592 non-null  float64\n 2   OBJECTID                       145592 non-null  int64  \n 3   ACC_ID                         145592 non-null  int64  \n 4   ROAD_NO                        145592 non-null  object \n 5   ROAD_NAME                      145592 non-null  object \n 6   COMMON_ROAD_NAME               145592 non-null  object \n 7   CWAY                           145592 non-null  object \n 8   SLK                            145592 non-null  float64\n 9   INTERSECTION_NO                77094 non-null   float64\n 10  INTERSECTION_DESC              77094 non-null   object \n 11  LONGITUDE                      145592 non-null  float64\n 12  LATITUDE                       145592 non-null  float64\n 13  CRASH_DATE                     145592 non-null  object \n 14  CRASH_TIME                     145124 non-null  float64\n 15  ACCIDENT_TYPE                  145592 non-null  object \n 16  SEVERITY                       145592 non-null  object \n 17  EVENT_NATURE                   137488 non-null  object \n 18  EVENT_TYPE                     37065 non-null   object \n 19  TOTAL_BIKE_INVOLVED            145592 non-null  int64  \n 20  TOTAL_TRUCK_INVOLVED           145592 non-null  int64  \n 21  TOTAL_HEAVY_TRUCK_INVOLVED     145592 non-null  int64  \n 22  TOTAL_MOTOR_CYCLE_INVOLVED     145592 non-null  int64  \n 23  TOTAL_OTHER_VEHICLES_INVOLVED  145592 non-null  int64  \n 24  TOTAL_PEDESTRIANS_INVOLVED     145592 non-null  int64  \ndtypes: float64(7), int64(8), object(10)\nmemory usage: 27.8+ MB\n"
    }
   ],
   "source": [
    "# Read in csv file\n",
    "csv_file = \"Crash_Information__Last_5_Years_.csv\"\n",
    "crash_df = pd.read_csv(csv_file)\n",
    "crash_df.info()"
   ]
  },
  {
   "cell_type": "code",
   "execution_count": 3,
   "metadata": {
    "tags": []
   },
   "outputs": [
    {
     "output_type": "stream",
     "name": "stdout",
     "text": "&lt;class &#39;pandas.core.frame.DataFrame&#39;&gt;\nRangeIndex: 145592 entries, 0 to 145591\nData columns (total 18 columns):\n #   Column                         Non-Null Count   Dtype  \n---  ------                         --------------   -----  \n 0   ACC_ID                         145592 non-null  int64  \n 1   ROAD_NO                        145592 non-null  object \n 2   COMMON_ROAD_NAME               145592 non-null  object \n 3   CWAY                           145592 non-null  object \n 4   LONGITUDE                      145592 non-null  float64\n 5   LATITUDE                       145592 non-null  float64\n 6   CRASH_DATE                     145592 non-null  object \n 7   CRASH_TIME                     145124 non-null  float64\n 8   ACCIDENT_TYPE                  145592 non-null  object \n 9   SEVERITY                       145592 non-null  object \n 10  EVENT_NATURE                   137488 non-null  object \n 11  EVENT_TYPE                     37065 non-null   object \n 12  TOTAL_BIKE_INVOLVED            145592 non-null  int64  \n 13  TOTAL_TRUCK_INVOLVED           145592 non-null  int64  \n 14  TOTAL_HEAVY_TRUCK_INVOLVED     145592 non-null  int64  \n 15  TOTAL_MOTOR_CYCLE_INVOLVED     145592 non-null  int64  \n 16  TOTAL_OTHER_VEHICLES_INVOLVED  145592 non-null  int64  \n 17  TOTAL_PEDESTRIANS_INVOLVED     145592 non-null  int64  \ndtypes: float64(3), int64(7), object(8)\nmemory usage: 20.0+ MB\n"
    }
   ],
   "source": [
    "# Drop irrelevant columns\n",
    "cleaned_crash_df = crash_df.drop([\"X\",\"Y\",\"OBJECTID\",\"ROAD_NAME\",\"SLK\",\"INTERSECTION_NO\",\"INTERSECTION_DESC\"],inplace=False,axis=1)\n",
    "cleaned_crash_df.info()"
   ]
  },
  {
   "cell_type": "code",
   "execution_count": 4,
   "metadata": {},
   "outputs": [
    {
     "output_type": "execute_result",
     "data": {
      "text/plain": "array([ 130., 1345., 1230., ...,  337.,  614.,  413.])"
     },
     "metadata": {},
     "execution_count": 4
    }
   ],
   "source": [
    "cleaned_crash_df=cleaned_crash_df.dropna(subset=['CRASH_TIME'])\n",
    "cleaned_crash_df['CRASH_TIME'].unique()"
   ]
  },
  {
   "cell_type": "code",
   "execution_count": 5,
   "metadata": {
    "tags": []
   },
   "outputs": [
    {
     "output_type": "execute_result",
     "data": {
      "text/plain": "False"
     },
     "metadata": {},
     "execution_count": 5
    }
   ],
   "source": [
    "cleaned_crash_df['CRASH_TIME'].isnull().values.any()"
   ]
  },
  {
   "cell_type": "code",
   "execution_count": 6,
   "metadata": {},
   "outputs": [
    {
     "output_type": "execute_result",
     "data": {
      "text/plain": "0         06\n1         06\n2         06\n3         06\n4         06\n          ..\n145587    07\n145588    07\n145589    07\n145590    07\n145591    07\nName: CRASH_DATE, Length: 145124, dtype: object"
     },
     "metadata": {},
     "execution_count": 6
    }
   ],
   "source": [
    "cleaned_crash_df[\"CRASH_DATE\"].str[-7:].str[0:2]"
   ]
  },
  {
   "cell_type": "code",
   "execution_count": 7,
   "metadata": {},
   "outputs": [
    {
     "output_type": "execute_result",
     "data": {
      "text/plain": "0         06\n1         06\n2         06\n3         06\n4         06\n          ..\n145587    07\n145588    07\n145589    07\n145590    07\n145591    07\nName: CRASH_DATE, Length: 145124, dtype: object"
     },
     "metadata": {},
     "execution_count": 7
    }
   ],
   "source": [
    "cleaned_crash_df[\"CRASH_DATE\"].str[-7:].str[0:2].astype(str)"
   ]
  },
  {
   "cell_type": "code",
   "execution_count": 8,
   "metadata": {
    "tags": []
   },
   "outputs": [
    {
     "output_type": "stream",
     "name": "stdout",
     "text": "&lt;class &#39;pandas.core.frame.DataFrame&#39;&gt;\nInt64Index: 145124 entries, 0 to 145591\nData columns (total 22 columns):\n #   Column                         Non-Null Count   Dtype  \n---  ------                         --------------   -----  \n 0   ACC_ID                         145124 non-null  int64  \n 1   ROAD_NO                        145124 non-null  object \n 2   COMMON_ROAD_NAME               145124 non-null  object \n 3   CWAY                           145124 non-null  object \n 4   LONGITUDE                      145124 non-null  float64\n 5   LATITUDE                       145124 non-null  float64\n 6   CRASH_DATE                     145124 non-null  object \n 7   CRASH_TIME                     145124 non-null  float64\n 8   ACCIDENT_TYPE                  145124 non-null  object \n 9   SEVERITY                       145124 non-null  object \n 10  EVENT_NATURE                   137065 non-null  object \n 11  EVENT_TYPE                     36903 non-null   object \n 12  TOTAL_BIKE_INVOLVED            145124 non-null  int64  \n 13  TOTAL_TRUCK_INVOLVED           145124 non-null  int64  \n 14  TOTAL_HEAVY_TRUCK_INVOLVED     145124 non-null  int64  \n 15  TOTAL_MOTOR_CYCLE_INVOLVED     145124 non-null  int64  \n 16  TOTAL_OTHER_VEHICLES_INVOLVED  145124 non-null  int64  \n 17  TOTAL_PEDESTRIANS_INVOLVED     145124 non-null  int64  \n 18  CRASH_TIME_HRS                 145124 non-null  int32  \n 19  CRASH_TIME_MIN                 145124 non-null  int32  \n 20  YEAR                           145124 non-null  int32  \n 21  MONTH                          145124 non-null  object \ndtypes: float64(3), int32(3), int64(7), object(9)\nmemory usage: 23.8+ MB\n"
    }
   ],
   "source": [
    "cleaned_crash_df[\"CRASH_TIME_HRS\"] = cleaned_crash_df[\"CRASH_TIME\"].div(100).apply(np.floor).astype(int)\n",
    "cleaned_crash_df[\"CRASH_TIME_MIN\"] = cleaned_crash_df[\"CRASH_TIME\"].mod(100).astype(int)\n",
    "cleaned_crash_df[\"YEAR\"]=cleaned_crash_df[\"CRASH_DATE\"].str[-4:].astype(int)\n",
    "cleaned_crash_df[\"MONTH\"]=cleaned_crash_df[\"CRASH_DATE\"].str[-7:].str[0:2].astype(str)\n",
    "\n",
    "cleaned_crash_df.info()\n"
   ]
  },
  {
   "cell_type": "code",
   "execution_count": 9,
   "metadata": {
    "tags": []
   },
   "outputs": [
    {
     "output_type": "stream",
     "name": "stdout",
     "text": "&lt;class &#39;pandas.core.frame.DataFrame&#39;&gt;\nInt64Index: 145124 entries, 0 to 145591\nData columns (total 22 columns):\n #   Column                         Non-Null Count   Dtype  \n---  ------                         --------------   -----  \n 0   ACC_ID                         145124 non-null  int64  \n 1   ROAD_NO                        145124 non-null  object \n 2   COMMON_ROAD_NAME               145124 non-null  object \n 3   CWAY                           145124 non-null  object \n 4   LONGITUDE                      145124 non-null  float64\n 5   LATITUDE                       145124 non-null  float64\n 6   CRASH_DATE                     145124 non-null  object \n 7   CRASH_TIME                     145124 non-null  float64\n 8   ACCIDENT_TYPE                  145124 non-null  object \n 9   SEVERITY                       145124 non-null  object \n 10  EVENT_NATURE                   145124 non-null  object \n 11  EVENT_TYPE                     145124 non-null  object \n 12  TOTAL_BIKE_INVOLVED            145124 non-null  int64  \n 13  TOTAL_TRUCK_INVOLVED           145124 non-null  int64  \n 14  TOTAL_HEAVY_TRUCK_INVOLVED     145124 non-null  int64  \n 15  TOTAL_MOTOR_CYCLE_INVOLVED     145124 non-null  int64  \n 16  TOTAL_OTHER_VEHICLES_INVOLVED  145124 non-null  int64  \n 17  TOTAL_PEDESTRIANS_INVOLVED     145124 non-null  int64  \n 18  CRASH_TIME_HRS                 145124 non-null  int32  \n 19  CRASH_TIME_MIN                 145124 non-null  int32  \n 20  YEAR                           145124 non-null  int32  \n 21  MONTH                          145124 non-null  object \ndtypes: float64(3), int32(3), int64(7), object(9)\nmemory usage: 23.8+ MB\n"
    }
   ],
   "source": [
    "cleaned_crash_df1=cleaned_crash_df.replace(np.nan,'Others',regex=True)\n",
    "cleaned_crash_df1.info()"
   ]
  },
  {
   "cell_type": "code",
   "execution_count": 11,
   "metadata": {},
   "outputs": [],
   "source": [
    "cleaned_crash_df1.to_csv(\"db\\crash_data.csv\")"
   ]
  }
 ]
}