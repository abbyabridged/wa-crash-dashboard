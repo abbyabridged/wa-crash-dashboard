{
 "metadata": {
  "language_info": {
   "codemirror_mode": {
    "name": "ipython",
    "version": 3
   },
   "file_extension": ".py",
   "mimetype": "text/x-python",
   "name": "python",
   "nbconvert_exporter": "python",
   "pygments_lexer": "ipython3",
   "version": "3.7.6-final"
  },
  "orig_nbformat": 2,
  "kernelspec": {
   "name": "python_defaultSpec_1598679346644",
   "display_name": "Python 3.7.6 64-bit ('base': conda)"
  }
 },
 "nbformat": 4,
 "nbformat_minor": 2,
 "cells": [
  {
   "cell_type": "code",
   "execution_count": 1,
   "metadata": {},
   "outputs": [],
   "source": [
    "import pandas as pd\n",
    "from sqlalchemy import create_engine"
   ]
  },
  {
   "cell_type": "markdown",
   "metadata": {},
   "source": [
    "### Extract data science jobs csv into DataFrame"
   ]
  },
  {
   "cell_type": "code",
   "execution_count": 2,
   "metadata": {},
   "outputs": [],
   "source": [
    "# Read in the data science jobs csv\n",
    "datasci_file = \"../Resources/datascientist_jobs_in_australia_Oct_25_2019.csv\"\n",
    "datasci_df = pd.read_csv(datasci_file)"
   ]
  },
  {
   "cell_type": "code",
   "execution_count": 3,
   "metadata": {
    "tags": []
   },
   "outputs": [
    {
     "output_type": "stream",
     "name": "stdout",
     "text": "<class 'pandas.core.frame.DataFrame'>\nRangeIndex: 619 entries, 0 to 618\nData columns (total 8 columns):\n #   Column      Non-Null Count  Dtype  \n---  ------      --------------  -----  \n 0   Unnamed: 0  619 non-null    int64  \n 1   title       619 non-null    object \n 2   company     619 non-null    object \n 3   cpage       619 non-null    object \n 4   ratings     619 non-null    float64\n 5   location    619 non-null    object \n 6   days_ago    619 non-null    int64  \n 7   summary     619 non-null    object \ndtypes: float64(1), int64(2), object(5)\nmemory usage: 38.8+ KB\n"
    }
   ],
   "source": [
    "# Summary of DataFrame\n",
    "datasci_df.info()"
   ]
  },
  {
   "cell_type": "markdown",
   "metadata": {},
   "source": [
    "### Transform data science jobs csv"
   ]
  },
  {
   "cell_type": "code",
   "execution_count": 4,
   "metadata": {},
   "outputs": [],
   "source": [
    "# Rename the unnamed column to id and set as index\n",
    "datasci_df.rename(columns={\"Unnamed: 0\":\"id\"},inplace=True)\n",
    "datasci_df.set_index(\"id\",inplace=True)"
   ]
  },
  {
   "cell_type": "code",
   "execution_count": 5,
   "metadata": {
    "tags": []
   },
   "outputs": [
    {
     "output_type": "execute_result",
     "data": {
      "text/plain": "                                                title  \\\nid                                                      \n1   Deloitte Access Economics - Junior Data Scientist   \n2                                      Data Scientist   \n3                       Junior Data Analyst/Scientist   \n4   IBM Research Scientist Data Scientist – Melbourne   \n5                                      Data Scientist   \n\n                                              company  \\\nid                                                      \n1                                            Deloitte   \n2   Australian Government Department of Human Serv...   \n3         International Institute of Data & Analytics   \n4                                                 IBM   \n5                                     Cash Converters   \n\n                                                cpage  ratings       location  \\\nid                                                                              \n1                  https://au.indeed.com/cmp/Deloitte      4.0     Sydney NSW   \n2   https://au.indeed.com/cmp/Australian-Governmen...      3.9   Canberra ACT   \n3                            https://au.indeed.comn/a      0.0     Sydney NSW   \n4                       https://au.indeed.com/cmp/IBM      3.9  Melbourne VIC   \n5           https://au.indeed.com/cmp/Cash-Converters      3.5    Taringa QLD   \n\n    days_ago                                            summary  \nid                                                               \n1         30  The data will be both temporal and spatial. Ad...  \n2         10  They lead the implementation of data science a...  \n3         10  In data science and big data analytics, the ID...  \n4         30  Experience working with big data sets, especia...  \n5          1  Collaborates with data/software engineers to i...  ",
      "text/html": "<div>\n<style scoped>\n    .dataframe tbody tr th:only-of-type {\n        vertical-align: middle;\n    }\n\n    .dataframe tbody tr th {\n        vertical-align: top;\n    }\n\n    .dataframe thead th {\n        text-align: right;\n    }\n</style>\n<table border=\"1\" class=\"dataframe\">\n  <thead>\n    <tr style=\"text-align: right;\">\n      <th></th>\n      <th>title</th>\n      <th>company</th>\n      <th>cpage</th>\n      <th>ratings</th>\n      <th>location</th>\n      <th>days_ago</th>\n      <th>summary</th>\n    </tr>\n    <tr>\n      <th>id</th>\n      <th></th>\n      <th></th>\n      <th></th>\n      <th></th>\n      <th></th>\n      <th></th>\n      <th></th>\n    </tr>\n  </thead>\n  <tbody>\n    <tr>\n      <th>1</th>\n      <td>Deloitte Access Economics - Junior Data Scientist</td>\n      <td>Deloitte</td>\n      <td>https://au.indeed.com/cmp/Deloitte</td>\n      <td>4.0</td>\n      <td>Sydney NSW</td>\n      <td>30</td>\n      <td>The data will be both temporal and spatial. Ad...</td>\n    </tr>\n    <tr>\n      <th>2</th>\n      <td>Data Scientist</td>\n      <td>Australian Government Department of Human Serv...</td>\n      <td>https://au.indeed.com/cmp/Australian-Governmen...</td>\n      <td>3.9</td>\n      <td>Canberra ACT</td>\n      <td>10</td>\n      <td>They lead the implementation of data science a...</td>\n    </tr>\n    <tr>\n      <th>3</th>\n      <td>Junior Data Analyst/Scientist</td>\n      <td>International Institute of Data &amp; Analytics</td>\n      <td>https://au.indeed.comn/a</td>\n      <td>0.0</td>\n      <td>Sydney NSW</td>\n      <td>10</td>\n      <td>In data science and big data analytics, the ID...</td>\n    </tr>\n    <tr>\n      <th>4</th>\n      <td>IBM Research Scientist Data Scientist – Melbourne</td>\n      <td>IBM</td>\n      <td>https://au.indeed.com/cmp/IBM</td>\n      <td>3.9</td>\n      <td>Melbourne VIC</td>\n      <td>30</td>\n      <td>Experience working with big data sets, especia...</td>\n    </tr>\n    <tr>\n      <th>5</th>\n      <td>Data Scientist</td>\n      <td>Cash Converters</td>\n      <td>https://au.indeed.com/cmp/Cash-Converters</td>\n      <td>3.5</td>\n      <td>Taringa QLD</td>\n      <td>1</td>\n      <td>Collaborates with data/software engineers to i...</td>\n    </tr>\n  </tbody>\n</table>\n</div>"
     },
     "metadata": {},
     "execution_count": 5
    }
   ],
   "source": [
    "# Preview resulting DataFrame\n",
    "datasci_df.head()"
   ]
  },
  {
   "cell_type": "code",
   "execution_count": 6,
   "metadata": {
    "tags": []
   },
   "outputs": [],
   "source": [
    "# Check for duplicate rows, based on all columns\n",
    "duplicate_rows = datasci_df[datasci_df.duplicated(keep=\"first\")]\n",
    "# duplicate_rows\n",
    "# duplicate_rows.count()"
   ]
  },
  {
   "cell_type": "code",
   "execution_count": 7,
   "metadata": {},
   "outputs": [],
   "source": [
    "# Drop duplicate rows from DataFrame\n",
    "datasci_df.drop_duplicates(inplace=True)"
   ]
  },
  {
   "cell_type": "code",
   "execution_count": 8,
   "metadata": {},
   "outputs": [],
   "source": [
    "# Clean up cpage column (replace invalid URL 'https://au.indeed.comn/a' with 'Not available')\n",
    "datasci_df.replace(\"https://au.indeed.comn/a\",\"Not available\",inplace=True)"
   ]
  },
  {
   "cell_type": "code",
   "execution_count": 9,
   "metadata": {},
   "outputs": [],
   "source": [
    "# Replace 0.0 ratings with 'No rating'\n",
    "datasci_df.replace(0.00,\"No rating\",inplace=True)"
   ]
  },
  {
   "cell_type": "code",
   "execution_count": 10,
   "metadata": {},
   "outputs": [],
   "source": [
    "# Drop days_ago columns\n",
    "datasci_df.drop(columns=\"days_ago\",inplace=True)"
   ]
  },
  {
   "cell_type": "code",
   "execution_count": 11,
   "metadata": {},
   "outputs": [
    {
     "output_type": "execute_result",
     "data": {
      "text/plain": "                                                 title  \\\nid                                                       \n1    Deloitte Access Economics - Junior Data Scientist   \n2                                       Data Scientist   \n3                        Junior Data Analyst/Scientist   \n4    IBM Research Scientist Data Scientist – Melbourne   \n5                                       Data Scientist   \n..                                                 ...   \n564                            Senior Research Analyst   \n578  6M Contract - Automation Engineer - JavaScript...   \n579  Full Stack Senior Software Engineer (React.js ...   \n607                             Senior Product Manager   \n609  Full Stack Senior Software Engineer (React.js ...   \n\n                                               company  \\\nid                                                       \n1                                             Deloitte   \n2    Australian Government Department of Human Serv...   \n3          International Institute of Data & Analytics   \n4                                                  IBM   \n5                                      Cash Converters   \n..                                                 ...   \n564                                             Hudson   \n578                                Real Time Australia   \n579                                Real Time Australia   \n607                          Sustainability Consulting   \n609                                Real Time Australia   \n\n                                                 cpage    ratings  \\\nid                                                                  \n1                   https://au.indeed.com/cmp/Deloitte          4   \n2    https://au.indeed.com/cmp/Australian-Governmen...        3.9   \n3                                        Not available  No rating   \n4                        https://au.indeed.com/cmp/IBM        3.9   \n5            https://au.indeed.com/cmp/Cash-Converters        3.5   \n..                                                 ...        ...   \n564                   https://au.indeed.com/cmp/Hudson        3.6   \n578                                      Not available  No rating   \n579                                      Not available  No rating   \n607                                      Not available  No rating   \n609                                      Not available  No rating   \n\n          location                                            summary  \nid                                                                     \n1       Sydney NSW  The data will be both temporal and spatial. Ad...  \n2     Canberra ACT  They lead the implementation of data science a...  \n3       Sydney NSW  In data science and big data analytics, the ID...  \n4    Melbourne VIC  Experience working with big data sets, especia...  \n5      Taringa QLD  Collaborates with data/software engineers to i...  \n..             ...                                                ...  \n564  Melbourne VIC  This role will lead to candidates who have a s...  \n578  Melbourne VIC  You will be working with an exceptional cross ...  \n579  Melbourne VIC  Working on building a unique data driven platf...  \n607     Sydney NSW  Strong affiliation and experience with Data or...  \n609  Melbourne VIC  Working on building a unique data driven platf...  \n\n[496 rows x 6 columns]",
      "text/html": "<div>\n<style scoped>\n    .dataframe tbody tr th:only-of-type {\n        vertical-align: middle;\n    }\n\n    .dataframe tbody tr th {\n        vertical-align: top;\n    }\n\n    .dataframe thead th {\n        text-align: right;\n    }\n</style>\n<table border=\"1\" class=\"dataframe\">\n  <thead>\n    <tr style=\"text-align: right;\">\n      <th></th>\n      <th>title</th>\n      <th>company</th>\n      <th>cpage</th>\n      <th>ratings</th>\n      <th>location</th>\n      <th>summary</th>\n    </tr>\n    <tr>\n      <th>id</th>\n      <th></th>\n      <th></th>\n      <th></th>\n      <th></th>\n      <th></th>\n      <th></th>\n    </tr>\n  </thead>\n  <tbody>\n    <tr>\n      <th>1</th>\n      <td>Deloitte Access Economics - Junior Data Scientist</td>\n      <td>Deloitte</td>\n      <td>https://au.indeed.com/cmp/Deloitte</td>\n      <td>4</td>\n      <td>Sydney NSW</td>\n      <td>The data will be both temporal and spatial. Ad...</td>\n    </tr>\n    <tr>\n      <th>2</th>\n      <td>Data Scientist</td>\n      <td>Australian Government Department of Human Serv...</td>\n      <td>https://au.indeed.com/cmp/Australian-Governmen...</td>\n      <td>3.9</td>\n      <td>Canberra ACT</td>\n      <td>They lead the implementation of data science a...</td>\n    </tr>\n    <tr>\n      <th>3</th>\n      <td>Junior Data Analyst/Scientist</td>\n      <td>International Institute of Data &amp; Analytics</td>\n      <td>Not available</td>\n      <td>No rating</td>\n      <td>Sydney NSW</td>\n      <td>In data science and big data analytics, the ID...</td>\n    </tr>\n    <tr>\n      <th>4</th>\n      <td>IBM Research Scientist Data Scientist – Melbourne</td>\n      <td>IBM</td>\n      <td>https://au.indeed.com/cmp/IBM</td>\n      <td>3.9</td>\n      <td>Melbourne VIC</td>\n      <td>Experience working with big data sets, especia...</td>\n    </tr>\n    <tr>\n      <th>5</th>\n      <td>Data Scientist</td>\n      <td>Cash Converters</td>\n      <td>https://au.indeed.com/cmp/Cash-Converters</td>\n      <td>3.5</td>\n      <td>Taringa QLD</td>\n      <td>Collaborates with data/software engineers to i...</td>\n    </tr>\n    <tr>\n      <th>...</th>\n      <td>...</td>\n      <td>...</td>\n      <td>...</td>\n      <td>...</td>\n      <td>...</td>\n      <td>...</td>\n    </tr>\n    <tr>\n      <th>564</th>\n      <td>Senior Research Analyst</td>\n      <td>Hudson</td>\n      <td>https://au.indeed.com/cmp/Hudson</td>\n      <td>3.6</td>\n      <td>Melbourne VIC</td>\n      <td>This role will lead to candidates who have a s...</td>\n    </tr>\n    <tr>\n      <th>578</th>\n      <td>6M Contract - Automation Engineer - JavaScript...</td>\n      <td>Real Time Australia</td>\n      <td>Not available</td>\n      <td>No rating</td>\n      <td>Melbourne VIC</td>\n      <td>You will be working with an exceptional cross ...</td>\n    </tr>\n    <tr>\n      <th>579</th>\n      <td>Full Stack Senior Software Engineer (React.js ...</td>\n      <td>Real Time Australia</td>\n      <td>Not available</td>\n      <td>No rating</td>\n      <td>Melbourne VIC</td>\n      <td>Working on building a unique data driven platf...</td>\n    </tr>\n    <tr>\n      <th>607</th>\n      <td>Senior Product Manager</td>\n      <td>Sustainability Consulting</td>\n      <td>Not available</td>\n      <td>No rating</td>\n      <td>Sydney NSW</td>\n      <td>Strong affiliation and experience with Data or...</td>\n    </tr>\n    <tr>\n      <th>609</th>\n      <td>Full Stack Senior Software Engineer (React.js ...</td>\n      <td>Real Time Australia</td>\n      <td>Not available</td>\n      <td>No rating</td>\n      <td>Melbourne VIC</td>\n      <td>Working on building a unique data driven platf...</td>\n    </tr>\n  </tbody>\n</table>\n<p>496 rows × 6 columns</p>\n</div>"
     },
     "metadata": {},
     "execution_count": 11
    }
   ],
   "source": [
    "datasci_df"
   ]
  },
  {
   "cell_type": "code",
   "execution_count": 12,
   "metadata": {},
   "outputs": [
    {
     "output_type": "execute_result",
     "data": {
      "text/plain": "            location\nid                  \n7           Victoria\n28          Victoria\n133  New South Wales\n208  New South Wales\n312       Queensland\n427         Tasmania",
      "text/html": "<div>\n<style scoped>\n    .dataframe tbody tr th:only-of-type {\n        vertical-align: middle;\n    }\n\n    .dataframe tbody tr th {\n        vertical-align: top;\n    }\n\n    .dataframe thead th {\n        text-align: right;\n    }\n</style>\n<table border=\"1\" class=\"dataframe\">\n  <thead>\n    <tr style=\"text-align: right;\">\n      <th></th>\n      <th>location</th>\n    </tr>\n    <tr>\n      <th>id</th>\n      <th></th>\n    </tr>\n  </thead>\n  <tbody>\n    <tr>\n      <th>7</th>\n      <td>Victoria</td>\n    </tr>\n    <tr>\n      <th>28</th>\n      <td>Victoria</td>\n    </tr>\n    <tr>\n      <th>133</th>\n      <td>New South Wales</td>\n    </tr>\n    <tr>\n      <th>208</th>\n      <td>New South Wales</td>\n    </tr>\n    <tr>\n      <th>312</th>\n      <td>Queensland</td>\n    </tr>\n    <tr>\n      <th>427</th>\n      <td>Tasmania</td>\n    </tr>\n  </tbody>\n</table>\n</div>"
     },
     "metadata": {},
     "execution_count": 12
    }
   ],
   "source": [
    "# Clean up state only values  in location\n",
    "location_cols = [\"location\"]\n",
    "location_df = datasci_df[location_cols].copy()\n",
    "# Find state only values in location\n",
    "location_missing_df = location_df.loc[location_df[\"location\"].isin([\"New South Wales\",\"Victoria\",\"Queensland\",\"Tasmania\"])]\n",
    "location_missing_df"
   ]
  },
  {
   "cell_type": "code",
   "execution_count": 13,
   "metadata": {},
   "outputs": [],
   "source": [
    "# Based in index values, replace state only values in location with \"Not avilable <state>\" to enable splitting of location into two columns\n",
    "datasci_df[\"location\"].loc[[7,28,133,208,312,427]] = [\"Not available VIC\",\"Not available VIC\",\"Not available NSW\",\"Not available NSW\",\"Not available QLD\",\"Not available TAS\"]"
   ]
  },
  {
   "cell_type": "code",
   "execution_count": 14,
   "metadata": {},
   "outputs": [
    {
     "output_type": "execute_result",
     "data": {
      "text/plain": "                                             title                   company  \\\nid                                                                             \n7                                   Data Scientist                  UniSuper   \n28                      Data Scientist - Marketing    World Vision Australia   \n133  Data Scientist - Digital Information Services      Talent International   \n208                               Research Analyst                     Dexus   \n312                         Senior Pricing Analyst  Auto & General Insurance   \n427                      Machine Learning Engineer             Betsson Group   \n\n                                                 cpage    ratings  \\\nid                                                                  \n7                   https://au.indeed.com/cmp/Unisuper        3.9   \n28    https://au.indeed.com/cmp/World-Vision-Australia  No rating   \n133     https://au.indeed.com/cmp/Talent-International  No rating   \n208                    https://au.indeed.com/cmp/Dexus        4.2   \n312  https://au.indeed.com/cmp/Auto-&-General-Insur...        4.1   \n427                                      Not available  No rating   \n\n              location                                            summary  \nid                                                                         \n7    Not available VIC  Strong TSQL skills for data discovery, data pa...  \n28   Not available VIC  Developing data assets (mainly using SQL and R...  \n133  Not available NSW  Degree in Information Technology or related fi...  \n208  Not available NSW  Work on one of the best property portfolios in...  \n312  Not available QLD  As part of Pricing you will work closely with ...  \n427  Not available TAS  Understanding of data structures, data modelin...  ",
      "text/html": "<div>\n<style scoped>\n    .dataframe tbody tr th:only-of-type {\n        vertical-align: middle;\n    }\n\n    .dataframe tbody tr th {\n        vertical-align: top;\n    }\n\n    .dataframe thead th {\n        text-align: right;\n    }\n</style>\n<table border=\"1\" class=\"dataframe\">\n  <thead>\n    <tr style=\"text-align: right;\">\n      <th></th>\n      <th>title</th>\n      <th>company</th>\n      <th>cpage</th>\n      <th>ratings</th>\n      <th>location</th>\n      <th>summary</th>\n    </tr>\n    <tr>\n      <th>id</th>\n      <th></th>\n      <th></th>\n      <th></th>\n      <th></th>\n      <th></th>\n      <th></th>\n    </tr>\n  </thead>\n  <tbody>\n    <tr>\n      <th>7</th>\n      <td>Data Scientist</td>\n      <td>UniSuper</td>\n      <td>https://au.indeed.com/cmp/Unisuper</td>\n      <td>3.9</td>\n      <td>Not available VIC</td>\n      <td>Strong TSQL skills for data discovery, data pa...</td>\n    </tr>\n    <tr>\n      <th>28</th>\n      <td>Data Scientist - Marketing</td>\n      <td>World Vision Australia</td>\n      <td>https://au.indeed.com/cmp/World-Vision-Australia</td>\n      <td>No rating</td>\n      <td>Not available VIC</td>\n      <td>Developing data assets (mainly using SQL and R...</td>\n    </tr>\n    <tr>\n      <th>133</th>\n      <td>Data Scientist - Digital Information Services</td>\n      <td>Talent International</td>\n      <td>https://au.indeed.com/cmp/Talent-International</td>\n      <td>No rating</td>\n      <td>Not available NSW</td>\n      <td>Degree in Information Technology or related fi...</td>\n    </tr>\n    <tr>\n      <th>208</th>\n      <td>Research Analyst</td>\n      <td>Dexus</td>\n      <td>https://au.indeed.com/cmp/Dexus</td>\n      <td>4.2</td>\n      <td>Not available NSW</td>\n      <td>Work on one of the best property portfolios in...</td>\n    </tr>\n    <tr>\n      <th>312</th>\n      <td>Senior Pricing Analyst</td>\n      <td>Auto &amp; General Insurance</td>\n      <td>https://au.indeed.com/cmp/Auto-&amp;-General-Insur...</td>\n      <td>4.1</td>\n      <td>Not available QLD</td>\n      <td>As part of Pricing you will work closely with ...</td>\n    </tr>\n    <tr>\n      <th>427</th>\n      <td>Machine Learning Engineer</td>\n      <td>Betsson Group</td>\n      <td>Not available</td>\n      <td>No rating</td>\n      <td>Not available TAS</td>\n      <td>Understanding of data structures, data modelin...</td>\n    </tr>\n  </tbody>\n</table>\n</div>"
     },
     "metadata": {},
     "execution_count": 14
    }
   ],
   "source": [
    "datasci_df.loc[[7,28,133,208,312,427]]"
   ]
  },
  {
   "cell_type": "code",
   "execution_count": 15,
   "metadata": {},
   "outputs": [
    {
     "output_type": "execute_result",
     "data": {
      "text/plain": "             0    1\nid                 \n1       Sydney  NSW\n2     Canberra  ACT\n3       Sydney  NSW\n4    Melbourne  VIC\n5      Taringa  QLD\n..         ...  ...\n564  Melbourne  VIC\n578  Melbourne  VIC\n579  Melbourne  VIC\n607     Sydney  NSW\n609  Melbourne  VIC\n\n[496 rows x 2 columns]",
      "text/html": "<div>\n<style scoped>\n    .dataframe tbody tr th:only-of-type {\n        vertical-align: middle;\n    }\n\n    .dataframe tbody tr th {\n        vertical-align: top;\n    }\n\n    .dataframe thead th {\n        text-align: right;\n    }\n</style>\n<table border=\"1\" class=\"dataframe\">\n  <thead>\n    <tr style=\"text-align: right;\">\n      <th></th>\n      <th>0</th>\n      <th>1</th>\n    </tr>\n    <tr>\n      <th>id</th>\n      <th></th>\n      <th></th>\n    </tr>\n  </thead>\n  <tbody>\n    <tr>\n      <th>1</th>\n      <td>Sydney</td>\n      <td>NSW</td>\n    </tr>\n    <tr>\n      <th>2</th>\n      <td>Canberra</td>\n      <td>ACT</td>\n    </tr>\n    <tr>\n      <th>3</th>\n      <td>Sydney</td>\n      <td>NSW</td>\n    </tr>\n    <tr>\n      <th>4</th>\n      <td>Melbourne</td>\n      <td>VIC</td>\n    </tr>\n    <tr>\n      <th>5</th>\n      <td>Taringa</td>\n      <td>QLD</td>\n    </tr>\n    <tr>\n      <th>...</th>\n      <td>...</td>\n      <td>...</td>\n    </tr>\n    <tr>\n      <th>564</th>\n      <td>Melbourne</td>\n      <td>VIC</td>\n    </tr>\n    <tr>\n      <th>578</th>\n      <td>Melbourne</td>\n      <td>VIC</td>\n    </tr>\n    <tr>\n      <th>579</th>\n      <td>Melbourne</td>\n      <td>VIC</td>\n    </tr>\n    <tr>\n      <th>607</th>\n      <td>Sydney</td>\n      <td>NSW</td>\n    </tr>\n    <tr>\n      <th>609</th>\n      <td>Melbourne</td>\n      <td>VIC</td>\n    </tr>\n  </tbody>\n</table>\n<p>496 rows × 2 columns</p>\n</div>"
     },
     "metadata": {},
     "execution_count": 15
    }
   ],
   "source": [
    "# Separate city and state into two columns\n",
    "location = datasci_df[\"location\"]\n",
    "location\n",
    "# location.unique()\n",
    "# # location.value_counts()\n",
    "location_new_df = location.str.rsplit(\" \",n=1,expand=True)\n",
    "location_new_df"
   ]
  },
  {
   "cell_type": "code",
   "execution_count": 16,
   "metadata": {},
   "outputs": [],
   "source": [
    "# Add new location and state columns into existing DataFrame\n",
    "datasci_df[\"city\"] = location_new_df[0]\n",
    "datasci_df[\"state\"] = location_new_df[1]\n",
    "# Drop existing location column\n",
    "datasci_df.drop(columns=\"location\",inplace=True)"
   ]
  },
  {
   "cell_type": "code",
   "execution_count": 17,
   "metadata": {},
   "outputs": [],
   "source": [
    "# Check city and state data\n",
    "# datasci_df[\"city\"].unique()\n",
    "# datasci_df[\"state\"].unique()"
   ]
  },
  {
   "cell_type": "code",
   "execution_count": 18,
   "metadata": {},
   "outputs": [],
   "source": [
    "# Rename columns with meaningful titles e.g. 'Indeed landing page'\n",
    "datasci_df.rename(columns={\"title\": \"job posting title\",\n",
    "                            \"company\": \"organisation\",\n",
    "                            \"cpage\": \"Indeed profile page\",\n",
    "                            \"ratings\": \"Indeed rating\",\n",
    "                            \"summary\": \"job summary\",\n",
    "                            \"city\": \"location\"},\n",
    "                            inplace=True)"
   ]
  },
  {
   "cell_type": "code",
   "execution_count": 19,
   "metadata": {},
   "outputs": [],
   "source": [
    "# Select columns from data sci DF to create a job information table\n",
    "jobinfo_cols = [\"job posting title\",\"organisation\",\"location\",\"state\"]\n",
    "jobinfo_df = datasci_df[jobinfo_cols].copy()"
   ]
  },
  {
   "cell_type": "code",
   "execution_count": 20,
   "metadata": {},
   "outputs": [],
   "source": [
    "# Sort data by organisation and job posting title; rest index\n",
    "jobinfo_df = jobinfo_df.sort_values(by=[\"organisation\",\"job posting title\"], ascending=True)\n",
    "jobinfo_df.reset_index(drop=True,inplace=True)"
   ]
  },
  {
   "cell_type": "code",
   "execution_count": 21,
   "metadata": {},
   "outputs": [
    {
     "output_type": "execute_result",
     "data": {
      "text/plain": "                                     job posting title  \\\n0                Full Stack (Nodejs/Reactjs) Developer   \n1                                  Junior Data Analyst   \n2             Market Research Analyst - Australia ANVa   \n3                               Senior Sleep Scientist   \n4                               Senior Sleep Scientist   \n..                                                 ...   \n491                              iOS Software Engineer   \n492  Data Analyst| People Analytics | HR Data Analy...   \n493  Data Scientist | People Analytics | HR Data An...   \n494                  Guest (Customer) Insights Analyst   \n495            Principal Consultant | Data & Analytics   \n\n                                          organisation   location state  \n0                               2XM Technology Pty Ltd     Sydney   NSW  \n1                                                2hats     Sydney   NSW  \n2    A V Immigration And Careers Consultancy Privat...  Australia  None  \n3                                       ACT Government   Canberra   ACT  \n4                                       ACT Government   Canberra   ACT  \n..                                                 ...        ...   ...  \n491                                            hipages     Sydney   NSW  \n492                                            inDmand     Sydney   NSW  \n493                                            inDmand     Sydney   NSW  \n494                                            kikki.K  Australia  None  \n495                                              viiew     Sydney   NSW  \n\n[496 rows x 4 columns]",
      "text/html": "<div>\n<style scoped>\n    .dataframe tbody tr th:only-of-type {\n        vertical-align: middle;\n    }\n\n    .dataframe tbody tr th {\n        vertical-align: top;\n    }\n\n    .dataframe thead th {\n        text-align: right;\n    }\n</style>\n<table border=\"1\" class=\"dataframe\">\n  <thead>\n    <tr style=\"text-align: right;\">\n      <th></th>\n      <th>job posting title</th>\n      <th>organisation</th>\n      <th>location</th>\n      <th>state</th>\n    </tr>\n  </thead>\n  <tbody>\n    <tr>\n      <th>0</th>\n      <td>Full Stack (Nodejs/Reactjs) Developer</td>\n      <td>2XM Technology Pty Ltd</td>\n      <td>Sydney</td>\n      <td>NSW</td>\n    </tr>\n    <tr>\n      <th>1</th>\n      <td>Junior Data Analyst</td>\n      <td>2hats</td>\n      <td>Sydney</td>\n      <td>NSW</td>\n    </tr>\n    <tr>\n      <th>2</th>\n      <td>Market Research Analyst - Australia ANVa</td>\n      <td>A V Immigration And Careers Consultancy Privat...</td>\n      <td>Australia</td>\n      <td>None</td>\n    </tr>\n    <tr>\n      <th>3</th>\n      <td>Senior Sleep Scientist</td>\n      <td>ACT Government</td>\n      <td>Canberra</td>\n      <td>ACT</td>\n    </tr>\n    <tr>\n      <th>4</th>\n      <td>Senior Sleep Scientist</td>\n      <td>ACT Government</td>\n      <td>Canberra</td>\n      <td>ACT</td>\n    </tr>\n    <tr>\n      <th>...</th>\n      <td>...</td>\n      <td>...</td>\n      <td>...</td>\n      <td>...</td>\n    </tr>\n    <tr>\n      <th>491</th>\n      <td>iOS Software Engineer</td>\n      <td>hipages</td>\n      <td>Sydney</td>\n      <td>NSW</td>\n    </tr>\n    <tr>\n      <th>492</th>\n      <td>Data Analyst| People Analytics | HR Data Analy...</td>\n      <td>inDmand</td>\n      <td>Sydney</td>\n      <td>NSW</td>\n    </tr>\n    <tr>\n      <th>493</th>\n      <td>Data Scientist | People Analytics | HR Data An...</td>\n      <td>inDmand</td>\n      <td>Sydney</td>\n      <td>NSW</td>\n    </tr>\n    <tr>\n      <th>494</th>\n      <td>Guest (Customer) Insights Analyst</td>\n      <td>kikki.K</td>\n      <td>Australia</td>\n      <td>None</td>\n    </tr>\n    <tr>\n      <th>495</th>\n      <td>Principal Consultant | Data &amp; Analytics</td>\n      <td>viiew</td>\n      <td>Sydney</td>\n      <td>NSW</td>\n    </tr>\n  </tbody>\n</table>\n<p>496 rows × 4 columns</p>\n</div>"
     },
     "metadata": {},
     "execution_count": 21
    }
   ],
   "source": [
    "jobinfo_df"
   ]
  },
  {
   "cell_type": "code",
   "execution_count": 22,
   "metadata": {},
   "outputs": [
    {
     "output_type": "execute_result",
     "data": {
      "text/plain": "                                          organisation  \\\nid                                                       \n1                                             Deloitte   \n2    Australian Government Department of Human Serv...   \n3          International Institute of Data & Analytics   \n4                                                  IBM   \n5                                      Cash Converters   \n..                                                 ...   \n564                                             Hudson   \n578                                Real Time Australia   \n579                                Real Time Australia   \n607                          Sustainability Consulting   \n609                                Real Time Australia   \n\n                                   Indeed profile page Indeed rating  \nid                                                                    \n1                   https://au.indeed.com/cmp/Deloitte             4  \n2    https://au.indeed.com/cmp/Australian-Governmen...           3.9  \n3                                        Not available     No rating  \n4                        https://au.indeed.com/cmp/IBM           3.9  \n5            https://au.indeed.com/cmp/Cash-Converters           3.5  \n..                                                 ...           ...  \n564                   https://au.indeed.com/cmp/Hudson           3.6  \n578                                      Not available     No rating  \n579                                      Not available     No rating  \n607                                      Not available     No rating  \n609                                      Not available     No rating  \n\n[496 rows x 3 columns]",
      "text/html": "<div>\n<style scoped>\n    .dataframe tbody tr th:only-of-type {\n        vertical-align: middle;\n    }\n\n    .dataframe tbody tr th {\n        vertical-align: top;\n    }\n\n    .dataframe thead th {\n        text-align: right;\n    }\n</style>\n<table border=\"1\" class=\"dataframe\">\n  <thead>\n    <tr style=\"text-align: right;\">\n      <th></th>\n      <th>organisation</th>\n      <th>Indeed profile page</th>\n      <th>Indeed rating</th>\n    </tr>\n    <tr>\n      <th>id</th>\n      <th></th>\n      <th></th>\n      <th></th>\n    </tr>\n  </thead>\n  <tbody>\n    <tr>\n      <th>1</th>\n      <td>Deloitte</td>\n      <td>https://au.indeed.com/cmp/Deloitte</td>\n      <td>4</td>\n    </tr>\n    <tr>\n      <th>2</th>\n      <td>Australian Government Department of Human Serv...</td>\n      <td>https://au.indeed.com/cmp/Australian-Governmen...</td>\n      <td>3.9</td>\n    </tr>\n    <tr>\n      <th>3</th>\n      <td>International Institute of Data &amp; Analytics</td>\n      <td>Not available</td>\n      <td>No rating</td>\n    </tr>\n    <tr>\n      <th>4</th>\n      <td>IBM</td>\n      <td>https://au.indeed.com/cmp/IBM</td>\n      <td>3.9</td>\n    </tr>\n    <tr>\n      <th>5</th>\n      <td>Cash Converters</td>\n      <td>https://au.indeed.com/cmp/Cash-Converters</td>\n      <td>3.5</td>\n    </tr>\n    <tr>\n      <th>...</th>\n      <td>...</td>\n      <td>...</td>\n      <td>...</td>\n    </tr>\n    <tr>\n      <th>564</th>\n      <td>Hudson</td>\n      <td>https://au.indeed.com/cmp/Hudson</td>\n      <td>3.6</td>\n    </tr>\n    <tr>\n      <th>578</th>\n      <td>Real Time Australia</td>\n      <td>Not available</td>\n      <td>No rating</td>\n    </tr>\n    <tr>\n      <th>579</th>\n      <td>Real Time Australia</td>\n      <td>Not available</td>\n      <td>No rating</td>\n    </tr>\n    <tr>\n      <th>607</th>\n      <td>Sustainability Consulting</td>\n      <td>Not available</td>\n      <td>No rating</td>\n    </tr>\n    <tr>\n      <th>609</th>\n      <td>Real Time Australia</td>\n      <td>Not available</td>\n      <td>No rating</td>\n    </tr>\n  </tbody>\n</table>\n<p>496 rows × 3 columns</p>\n</div>"
     },
     "metadata": {},
     "execution_count": 22
    }
   ],
   "source": [
    "# Select columns to create organisation DF\n",
    "orginfo_cols = [\"organisation\",\"Indeed profile page\",\"Indeed rating\"]\n",
    "orginfo_df = datasci_df[orginfo_cols].copy()\n",
    "orginfo_df"
   ]
  },
  {
   "cell_type": "code",
   "execution_count": 23,
   "metadata": {},
   "outputs": [],
   "source": [
    "# Drop duplicates from org DF\n",
    "orginfo_df.drop_duplicates(subset=\"organisation\",inplace=True)"
   ]
  },
  {
   "cell_type": "code",
   "execution_count": 24,
   "metadata": {},
   "outputs": [
    {
     "output_type": "execute_result",
     "data": {
      "text/plain": "                                          organisation  \\\n0                               2XM Technology Pty Ltd   \n1                                                2hats   \n2    A V Immigration And Careers Consultancy Privat...   \n3                                       ACT Government   \n4                                           ACT Health   \n..                                                 ...   \n260                                             h2o.ai   \n261                                            hipages   \n262                                            inDmand   \n263                                            kikki.K   \n264                                              viiew   \n\n                          Indeed profile page Indeed rating  \n0                               Not available     No rating  \n1                               Not available     No rating  \n2                               Not available     No rating  \n3    https://au.indeed.com/cmp/Act-Government           3.3  \n4        https://au.indeed.com/cmp/Act-Health             3  \n..                                        ...           ...  \n260                             Not available     No rating  \n261                             Not available     No rating  \n262                             Not available     No rating  \n263         https://au.indeed.com/cmp/Kikki.k           2.6  \n264                             Not available     No rating  \n\n[265 rows x 3 columns]",
      "text/html": "<div>\n<style scoped>\n    .dataframe tbody tr th:only-of-type {\n        vertical-align: middle;\n    }\n\n    .dataframe tbody tr th {\n        vertical-align: top;\n    }\n\n    .dataframe thead th {\n        text-align: right;\n    }\n</style>\n<table border=\"1\" class=\"dataframe\">\n  <thead>\n    <tr style=\"text-align: right;\">\n      <th></th>\n      <th>organisation</th>\n      <th>Indeed profile page</th>\n      <th>Indeed rating</th>\n    </tr>\n  </thead>\n  <tbody>\n    <tr>\n      <th>0</th>\n      <td>2XM Technology Pty Ltd</td>\n      <td>Not available</td>\n      <td>No rating</td>\n    </tr>\n    <tr>\n      <th>1</th>\n      <td>2hats</td>\n      <td>Not available</td>\n      <td>No rating</td>\n    </tr>\n    <tr>\n      <th>2</th>\n      <td>A V Immigration And Careers Consultancy Privat...</td>\n      <td>Not available</td>\n      <td>No rating</td>\n    </tr>\n    <tr>\n      <th>3</th>\n      <td>ACT Government</td>\n      <td>https://au.indeed.com/cmp/Act-Government</td>\n      <td>3.3</td>\n    </tr>\n    <tr>\n      <th>4</th>\n      <td>ACT Health</td>\n      <td>https://au.indeed.com/cmp/Act-Health</td>\n      <td>3</td>\n    </tr>\n    <tr>\n      <th>...</th>\n      <td>...</td>\n      <td>...</td>\n      <td>...</td>\n    </tr>\n    <tr>\n      <th>260</th>\n      <td>h2o.ai</td>\n      <td>Not available</td>\n      <td>No rating</td>\n    </tr>\n    <tr>\n      <th>261</th>\n      <td>hipages</td>\n      <td>Not available</td>\n      <td>No rating</td>\n    </tr>\n    <tr>\n      <th>262</th>\n      <td>inDmand</td>\n      <td>Not available</td>\n      <td>No rating</td>\n    </tr>\n    <tr>\n      <th>263</th>\n      <td>kikki.K</td>\n      <td>https://au.indeed.com/cmp/Kikki.k</td>\n      <td>2.6</td>\n    </tr>\n    <tr>\n      <th>264</th>\n      <td>viiew</td>\n      <td>Not available</td>\n      <td>No rating</td>\n    </tr>\n  </tbody>\n</table>\n<p>265 rows × 3 columns</p>\n</div>"
     },
     "metadata": {},
     "execution_count": 24
    }
   ],
   "source": [
    "# Sort data by organisation\n",
    "orginfo_df = orginfo_df.sort_values(by=[\"organisation\"], ascending=True)\n",
    "orginfo_df.reset_index(drop=True,inplace=True)\n",
    "orginfo_df"
   ]
  },
  {
   "cell_type": "markdown",
   "metadata": {},
   "source": [
    "### Extract ABS labour market data csv into DataFrame\n",
    "\n"
   ]
  },
  {
   "cell_type": "code",
   "execution_count": 25,
   "metadata": {},
   "outputs": [
    {
     "output_type": "execute_result",
     "data": {
      "text/plain": "  State/Territory    Date  Employment Rate (15-64)     \\\n0             NSW  Feb-78                         NaN   \n1             NSW  Mar-78                         NaN   \n2             NSW  Apr-78                        63.7   \n3             NSW  May-78                        63.7   \n4             NSW  Jun-78                        63.7   \n\n   Unemployment Rate (15+)    Participation Rate (15+)      \n0                        6.9                          60.8  \n1                        6.4                          59.8  \n2                        6.5                          60.2  \n3                        6.1                          60.0  \n4                        6.4                          60.1  ",
      "text/html": "<div>\n<style scoped>\n    .dataframe tbody tr th:only-of-type {\n        vertical-align: middle;\n    }\n\n    .dataframe tbody tr th {\n        vertical-align: top;\n    }\n\n    .dataframe thead th {\n        text-align: right;\n    }\n</style>\n<table border=\"1\" class=\"dataframe\">\n  <thead>\n    <tr style=\"text-align: right;\">\n      <th></th>\n      <th>State/Territory</th>\n      <th>Date</th>\n      <th>Employment Rate (15-64)</th>\n      <th>Unemployment Rate (15+)</th>\n      <th>Participation Rate (15+)</th>\n    </tr>\n  </thead>\n  <tbody>\n    <tr>\n      <th>0</th>\n      <td>NSW</td>\n      <td>Feb-78</td>\n      <td>NaN</td>\n      <td>6.9</td>\n      <td>60.8</td>\n    </tr>\n    <tr>\n      <th>1</th>\n      <td>NSW</td>\n      <td>Mar-78</td>\n      <td>NaN</td>\n      <td>6.4</td>\n      <td>59.8</td>\n    </tr>\n    <tr>\n      <th>2</th>\n      <td>NSW</td>\n      <td>Apr-78</td>\n      <td>63.7</td>\n      <td>6.5</td>\n      <td>60.2</td>\n    </tr>\n    <tr>\n      <th>3</th>\n      <td>NSW</td>\n      <td>May-78</td>\n      <td>63.7</td>\n      <td>6.1</td>\n      <td>60.0</td>\n    </tr>\n    <tr>\n      <th>4</th>\n      <td>NSW</td>\n      <td>Jun-78</td>\n      <td>63.7</td>\n      <td>6.4</td>\n      <td>60.1</td>\n    </tr>\n  </tbody>\n</table>\n</div>"
     },
     "metadata": {},
     "execution_count": 25
    }
   ],
   "source": [
    "# Read in csv\n",
    "abslabour_file = \"../Resources/SA4 Time Series - July 2020.csv\"\n",
    "abslabour_df = pd.read_csv(abslabour_file)\n",
    "abslabour_df.head()"
   ]
  },
  {
   "cell_type": "markdown",
   "metadata": {},
   "source": [
    "### Transform ABS labour market data"
   ]
  },
  {
   "cell_type": "code",
   "execution_count": 26,
   "metadata": {},
   "outputs": [],
   "source": [
    "# Filter for relevant labour market data dates (Oct 2019 matched jobs data)\n",
    "abslabour_oct2019_df = abslabour_df.loc[abslabour_df[\"Date\"] == \"Oct-19\"]"
   ]
  },
  {
   "cell_type": "code",
   "execution_count": 27,
   "metadata": {},
   "outputs": [],
   "source": [
    "# Drop row with value \"Australia\" in state/territory column\n",
    "abslabour_oct2019_df.drop(4580,inplace=True)"
   ]
  },
  {
   "cell_type": "code",
   "execution_count": 28,
   "metadata": {},
   "outputs": [],
   "source": [
    "# Rename columns\n",
    "abslabour_oct2019_df.columns=[\"state\",\"date\",\"employment rate\", \"unemployment rate\", \"participation rate\"]"
   ]
  },
  {
   "cell_type": "code",
   "execution_count": 29,
   "metadata": {},
   "outputs": [],
   "source": [
    "# Sort data by state\n",
    "abslabour_oct2019_df = abslabour_oct2019_df.sort_values(by=[\"state\"], ascending=True)\n",
    "abslabour_oct2019_df.reset_index(drop=True,inplace=True)"
   ]
  },
  {
   "cell_type": "code",
   "execution_count": 30,
   "metadata": {},
   "outputs": [],
   "source": [
    "# Select columns from abslabour DF to create a labour market information table\n",
    "labourinfo_cols = [\"state\",\"employment rate\",\"unemployment rate\",\"participation rate\"]\n",
    "labourinfo_df = abslabour_oct2019_df[labourinfo_cols].copy()"
   ]
  },
  {
   "cell_type": "code",
   "execution_count": 31,
   "metadata": {},
   "outputs": [
    {
     "output_type": "execute_result",
     "data": {
      "text/plain": "       employment rate  unemployment rate  participation rate\nstate                                                        \nACT               79.1                3.0                70.8\nNSW               74.9                4.8                65.5\nNT                74.3                5.6                73.4\nQLD               73.9                6.4                66.0\nSA                72.0                6.2                62.7\nTAS               71.2                6.0                60.6\nVIC               74.0                4.8                66.4\nWA                74.7                5.7                68.2",
      "text/html": "<div>\n<style scoped>\n    .dataframe tbody tr th:only-of-type {\n        vertical-align: middle;\n    }\n\n    .dataframe tbody tr th {\n        vertical-align: top;\n    }\n\n    .dataframe thead th {\n        text-align: right;\n    }\n</style>\n<table border=\"1\" class=\"dataframe\">\n  <thead>\n    <tr style=\"text-align: right;\">\n      <th></th>\n      <th>employment rate</th>\n      <th>unemployment rate</th>\n      <th>participation rate</th>\n    </tr>\n    <tr>\n      <th>state</th>\n      <th></th>\n      <th></th>\n      <th></th>\n    </tr>\n  </thead>\n  <tbody>\n    <tr>\n      <th>ACT</th>\n      <td>79.1</td>\n      <td>3.0</td>\n      <td>70.8</td>\n    </tr>\n    <tr>\n      <th>NSW</th>\n      <td>74.9</td>\n      <td>4.8</td>\n      <td>65.5</td>\n    </tr>\n    <tr>\n      <th>NT</th>\n      <td>74.3</td>\n      <td>5.6</td>\n      <td>73.4</td>\n    </tr>\n    <tr>\n      <th>QLD</th>\n      <td>73.9</td>\n      <td>6.4</td>\n      <td>66.0</td>\n    </tr>\n    <tr>\n      <th>SA</th>\n      <td>72.0</td>\n      <td>6.2</td>\n      <td>62.7</td>\n    </tr>\n    <tr>\n      <th>TAS</th>\n      <td>71.2</td>\n      <td>6.0</td>\n      <td>60.6</td>\n    </tr>\n    <tr>\n      <th>VIC</th>\n      <td>74.0</td>\n      <td>4.8</td>\n      <td>66.4</td>\n    </tr>\n    <tr>\n      <th>WA</th>\n      <td>74.7</td>\n      <td>5.7</td>\n      <td>68.2</td>\n    </tr>\n  </tbody>\n</table>\n</div>"
     },
     "metadata": {},
     "execution_count": 31
    }
   ],
   "source": [
    "# Set index to state\n",
    "labourinfo_df.set_index(\"state\",inplace=True)\n",
    "labourinfo_df"
   ]
  },
  {
   "cell_type": "markdown",
   "metadata": {},
   "source": [
    "### List of final DFs for database tables"
   ]
  },
  {
   "cell_type": "code",
   "execution_count": 32,
   "metadata": {},
   "outputs": [
    {
     "output_type": "execute_result",
     "data": {
      "text/plain": "                                     job posting title  \\\nid                                                       \n0                Full Stack (Nodejs/Reactjs) Developer   \n1                                  Junior Data Analyst   \n2             Market Research Analyst - Australia ANVa   \n3                               Senior Sleep Scientist   \n4                               Senior Sleep Scientist   \n..                                                 ...   \n491                              iOS Software Engineer   \n492  Data Analyst| People Analytics | HR Data Analy...   \n493  Data Scientist | People Analytics | HR Data An...   \n494                  Guest (Customer) Insights Analyst   \n495            Principal Consultant | Data & Analytics   \n\n                                          organisation   location state  \nid                                                                       \n0                               2XM Technology Pty Ltd     Sydney   NSW  \n1                                                2hats     Sydney   NSW  \n2    A V Immigration And Careers Consultancy Privat...  Australia  None  \n3                                       ACT Government   Canberra   ACT  \n4                                       ACT Government   Canberra   ACT  \n..                                                 ...        ...   ...  \n491                                            hipages     Sydney   NSW  \n492                                            inDmand     Sydney   NSW  \n493                                            inDmand     Sydney   NSW  \n494                                            kikki.K  Australia  None  \n495                                              viiew     Sydney   NSW  \n\n[496 rows x 4 columns]",
      "text/html": "<div>\n<style scoped>\n    .dataframe tbody tr th:only-of-type {\n        vertical-align: middle;\n    }\n\n    .dataframe tbody tr th {\n        vertical-align: top;\n    }\n\n    .dataframe thead th {\n        text-align: right;\n    }\n</style>\n<table border=\"1\" class=\"dataframe\">\n  <thead>\n    <tr style=\"text-align: right;\">\n      <th></th>\n      <th>job posting title</th>\n      <th>organisation</th>\n      <th>location</th>\n      <th>state</th>\n    </tr>\n    <tr>\n      <th>id</th>\n      <th></th>\n      <th></th>\n      <th></th>\n      <th></th>\n    </tr>\n  </thead>\n  <tbody>\n    <tr>\n      <th>0</th>\n      <td>Full Stack (Nodejs/Reactjs) Developer</td>\n      <td>2XM Technology Pty Ltd</td>\n      <td>Sydney</td>\n      <td>NSW</td>\n    </tr>\n    <tr>\n      <th>1</th>\n      <td>Junior Data Analyst</td>\n      <td>2hats</td>\n      <td>Sydney</td>\n      <td>NSW</td>\n    </tr>\n    <tr>\n      <th>2</th>\n      <td>Market Research Analyst - Australia ANVa</td>\n      <td>A V Immigration And Careers Consultancy Privat...</td>\n      <td>Australia</td>\n      <td>None</td>\n    </tr>\n    <tr>\n      <th>3</th>\n      <td>Senior Sleep Scientist</td>\n      <td>ACT Government</td>\n      <td>Canberra</td>\n      <td>ACT</td>\n    </tr>\n    <tr>\n      <th>4</th>\n      <td>Senior Sleep Scientist</td>\n      <td>ACT Government</td>\n      <td>Canberra</td>\n      <td>ACT</td>\n    </tr>\n    <tr>\n      <th>...</th>\n      <td>...</td>\n      <td>...</td>\n      <td>...</td>\n      <td>...</td>\n    </tr>\n    <tr>\n      <th>491</th>\n      <td>iOS Software Engineer</td>\n      <td>hipages</td>\n      <td>Sydney</td>\n      <td>NSW</td>\n    </tr>\n    <tr>\n      <th>492</th>\n      <td>Data Analyst| People Analytics | HR Data Analy...</td>\n      <td>inDmand</td>\n      <td>Sydney</td>\n      <td>NSW</td>\n    </tr>\n    <tr>\n      <th>493</th>\n      <td>Data Scientist | People Analytics | HR Data An...</td>\n      <td>inDmand</td>\n      <td>Sydney</td>\n      <td>NSW</td>\n    </tr>\n    <tr>\n      <th>494</th>\n      <td>Guest (Customer) Insights Analyst</td>\n      <td>kikki.K</td>\n      <td>Australia</td>\n      <td>None</td>\n    </tr>\n    <tr>\n      <th>495</th>\n      <td>Principal Consultant | Data &amp; Analytics</td>\n      <td>viiew</td>\n      <td>Sydney</td>\n      <td>NSW</td>\n    </tr>\n  </tbody>\n</table>\n<p>496 rows × 4 columns</p>\n</div>"
     },
     "metadata": {},
     "execution_count": 32
    }
   ],
   "source": [
    "# Job information\n",
    "jobinfo_df.index.name = \"id\"\n",
    "jobinfo_df"
   ]
  },
  {
   "cell_type": "code",
   "execution_count": 33,
   "metadata": {},
   "outputs": [
    {
     "output_type": "execute_result",
     "data": {
      "text/plain": "                                          organisation  \\\nid                                                       \n0                               2XM Technology Pty Ltd   \n1                                                2hats   \n2    A V Immigration And Careers Consultancy Privat...   \n3                                       ACT Government   \n4                                           ACT Health   \n..                                                 ...   \n260                                             h2o.ai   \n261                                            hipages   \n262                                            inDmand   \n263                                            kikki.K   \n264                                              viiew   \n\n                          Indeed profile page Indeed rating  \nid                                                           \n0                               Not available     No rating  \n1                               Not available     No rating  \n2                               Not available     No rating  \n3    https://au.indeed.com/cmp/Act-Government           3.3  \n4        https://au.indeed.com/cmp/Act-Health             3  \n..                                        ...           ...  \n260                             Not available     No rating  \n261                             Not available     No rating  \n262                             Not available     No rating  \n263         https://au.indeed.com/cmp/Kikki.k           2.6  \n264                             Not available     No rating  \n\n[265 rows x 3 columns]",
      "text/html": "<div>\n<style scoped>\n    .dataframe tbody tr th:only-of-type {\n        vertical-align: middle;\n    }\n\n    .dataframe tbody tr th {\n        vertical-align: top;\n    }\n\n    .dataframe thead th {\n        text-align: right;\n    }\n</style>\n<table border=\"1\" class=\"dataframe\">\n  <thead>\n    <tr style=\"text-align: right;\">\n      <th></th>\n      <th>organisation</th>\n      <th>Indeed profile page</th>\n      <th>Indeed rating</th>\n    </tr>\n    <tr>\n      <th>id</th>\n      <th></th>\n      <th></th>\n      <th></th>\n    </tr>\n  </thead>\n  <tbody>\n    <tr>\n      <th>0</th>\n      <td>2XM Technology Pty Ltd</td>\n      <td>Not available</td>\n      <td>No rating</td>\n    </tr>\n    <tr>\n      <th>1</th>\n      <td>2hats</td>\n      <td>Not available</td>\n      <td>No rating</td>\n    </tr>\n    <tr>\n      <th>2</th>\n      <td>A V Immigration And Careers Consultancy Privat...</td>\n      <td>Not available</td>\n      <td>No rating</td>\n    </tr>\n    <tr>\n      <th>3</th>\n      <td>ACT Government</td>\n      <td>https://au.indeed.com/cmp/Act-Government</td>\n      <td>3.3</td>\n    </tr>\n    <tr>\n      <th>4</th>\n      <td>ACT Health</td>\n      <td>https://au.indeed.com/cmp/Act-Health</td>\n      <td>3</td>\n    </tr>\n    <tr>\n      <th>...</th>\n      <td>...</td>\n      <td>...</td>\n      <td>...</td>\n    </tr>\n    <tr>\n      <th>260</th>\n      <td>h2o.ai</td>\n      <td>Not available</td>\n      <td>No rating</td>\n    </tr>\n    <tr>\n      <th>261</th>\n      <td>hipages</td>\n      <td>Not available</td>\n      <td>No rating</td>\n    </tr>\n    <tr>\n      <th>262</th>\n      <td>inDmand</td>\n      <td>Not available</td>\n      <td>No rating</td>\n    </tr>\n    <tr>\n      <th>263</th>\n      <td>kikki.K</td>\n      <td>https://au.indeed.com/cmp/Kikki.k</td>\n      <td>2.6</td>\n    </tr>\n    <tr>\n      <th>264</th>\n      <td>viiew</td>\n      <td>Not available</td>\n      <td>No rating</td>\n    </tr>\n  </tbody>\n</table>\n<p>265 rows × 3 columns</p>\n</div>"
     },
     "metadata": {},
     "execution_count": 33
    }
   ],
   "source": [
    "# Organisation information\n",
    "orginfo_df.index.name = \"id\"\n",
    "orginfo_df"
   ]
  },
  {
   "cell_type": "code",
   "execution_count": 34,
   "metadata": {
    "tags": []
   },
   "outputs": [
    {
     "output_type": "execute_result",
     "data": {
      "text/plain": "       employment rate  unemployment rate  participation rate\nstate                                                        \nACT               79.1                3.0                70.8\nNSW               74.9                4.8                65.5\nNT                74.3                5.6                73.4\nQLD               73.9                6.4                66.0\nSA                72.0                6.2                62.7\nTAS               71.2                6.0                60.6\nVIC               74.0                4.8                66.4\nWA                74.7                5.7                68.2",
      "text/html": "<div>\n<style scoped>\n    .dataframe tbody tr th:only-of-type {\n        vertical-align: middle;\n    }\n\n    .dataframe tbody tr th {\n        vertical-align: top;\n    }\n\n    .dataframe thead th {\n        text-align: right;\n    }\n</style>\n<table border=\"1\" class=\"dataframe\">\n  <thead>\n    <tr style=\"text-align: right;\">\n      <th></th>\n      <th>employment rate</th>\n      <th>unemployment rate</th>\n      <th>participation rate</th>\n    </tr>\n    <tr>\n      <th>state</th>\n      <th></th>\n      <th></th>\n      <th></th>\n    </tr>\n  </thead>\n  <tbody>\n    <tr>\n      <th>ACT</th>\n      <td>79.1</td>\n      <td>3.0</td>\n      <td>70.8</td>\n    </tr>\n    <tr>\n      <th>NSW</th>\n      <td>74.9</td>\n      <td>4.8</td>\n      <td>65.5</td>\n    </tr>\n    <tr>\n      <th>NT</th>\n      <td>74.3</td>\n      <td>5.6</td>\n      <td>73.4</td>\n    </tr>\n    <tr>\n      <th>QLD</th>\n      <td>73.9</td>\n      <td>6.4</td>\n      <td>66.0</td>\n    </tr>\n    <tr>\n      <th>SA</th>\n      <td>72.0</td>\n      <td>6.2</td>\n      <td>62.7</td>\n    </tr>\n    <tr>\n      <th>TAS</th>\n      <td>71.2</td>\n      <td>6.0</td>\n      <td>60.6</td>\n    </tr>\n    <tr>\n      <th>VIC</th>\n      <td>74.0</td>\n      <td>4.8</td>\n      <td>66.4</td>\n    </tr>\n    <tr>\n      <th>WA</th>\n      <td>74.7</td>\n      <td>5.7</td>\n      <td>68.2</td>\n    </tr>\n  </tbody>\n</table>\n</div>"
     },
     "metadata": {},
     "execution_count": 34
    }
   ],
   "source": [
    "# Labour market information\n",
    "labourinfo_df"
   ]
  },
  {
   "cell_type": "markdown",
   "metadata": {},
   "source": [
    "### Create database connection"
   ]
  },
  {
   "cell_type": "code",
   "execution_count": 35,
   "metadata": {},
   "outputs": [],
   "source": [
    "connection_string = \"postgres:postgres1985@localhost:5432/datascijobs_db\"\n",
    "engine = create_engine(f'postgresql://{connection_string}')"
   ]
  },
  {
   "cell_type": "code",
   "execution_count": 36,
   "metadata": {},
   "outputs": [
    {
     "output_type": "execute_result",
     "data": {
      "text/plain": "[]"
     },
     "metadata": {},
     "execution_count": 36
    }
   ],
   "source": [
    "# Confirm tables\n",
    "engine.table_names()"
   ]
  },
  {
   "cell_type": "markdown",
   "metadata": {},
   "source": [
    "### Load DataFrames into database"
   ]
  },
  {
   "cell_type": "code",
   "execution_count": 37,
   "metadata": {},
   "outputs": [],
   "source": [
    "labourinfo_df.to_sql(name='labour_market_information', con=engine, if_exists='append', index=True)"
   ]
  },
  {
   "cell_type": "code",
   "execution_count": 38,
   "metadata": {},
   "outputs": [],
   "source": [
    "orginfo_df.to_sql(name='organisation_information', con=engine, if_exists='append', index=True)"
   ]
  },
  {
   "cell_type": "code",
   "execution_count": 39,
   "metadata": {},
   "outputs": [],
   "source": [
    "jobinfo_df.to_sql(name='job_information', con=engine, if_exists='append', index=True)"
   ]
  }
 ]
}