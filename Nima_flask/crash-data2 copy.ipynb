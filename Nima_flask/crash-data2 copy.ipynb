{
 "metadata": {
  "language_info": {
   "codemirror_mode": {
    "name": "ipython",
    "version": 3
   },
   "file_extension": ".py",
   "mimetype": "text/x-python",
   "name": "python",
   "nbconvert_exporter": "python",
   "pygments_lexer": "ipython3",
   "version": "3.7.7-final"
  },
  "orig_nbformat": 2,
  "kernelspec": {
   "name": "Python 3.7.7 64-bit ('base': conda)",
   "display_name": "Python 3.7.7 64-bit ('base': conda)",
   "metadata": {
    "interpreter": {
     "hash": "89a0b202a8144c22129edde4541b47c913a724a744eb71851a418ed1250d89e1"
    }
   }
  }
 },
 "nbformat": 4,
 "nbformat_minor": 2,
 "cells": [
  {
   "cell_type": "code",
   "execution_count": null,
   "metadata": {},
   "outputs": [],
   "source": [
    "import os\n",
    "\n",
    "import pandas as pd\n",
    "import numpy as np\n",
    "\n",
    "import sqlalchemy\n",
    "from sqlalchemy.ext.automap import automap_base\n",
    "from sqlalchemy.orm import Session\n",
    "from sqlalchemy import create_engine\n",
    "\n",
    "from flask import Flask, jsonify, render_template\n",
    "from flask_sqlalchemy import SQLAlchemy\n",
    "from sqlalchemy import create_engine, inspect"
   ]
  },
  {
   "cell_type": "code",
   "execution_count": null,
   "metadata": {},
   "outputs": [],
   "source": [
    "engine = create_engine(\"sqlite:///db/WA_Crash_data.db\")\n",
    "\n",
    "# reflect an existing database into a new model\n",
    "Base = automap_base()\n",
    "# reflect the tables\n",
    "Base.prepare(engine, reflect=True)\n",
    "        \n",
    "# Save reference to the table\n",
    "\n",
    "Base.classes.keys()"
   ]
  },
  {
   "cell_type": "code",
   "execution_count": null,
   "metadata": {},
   "outputs": [],
   "source": [
    "inspector = inspect(engine)\n",
    "inspector.get_table_names()"
   ]
  },
  {
   "cell_type": "code",
   "execution_count": null,
   "metadata": {
    "tags": []
   },
   "outputs": [],
   "source": [
    "columns = inspector.get_columns('CrashData')\n",
    "for c in columns:\n",
    "    print(c['name'])"
   ]
  },
  {
   "cell_type": "code",
   "execution_count": null,
   "metadata": {},
   "outputs": [],
   "source": [
    "Data = Base.classes.CrashData\n",
    "session = Session(engine)\n",
    "results = session.query(Data.YEAR)\n",
    "results[5]"
   ]
  },
  {
   "cell_type": "code",
   "execution_count": null,
   "metadata": {},
   "outputs": [],
   "source": []
  },
  {
   "cell_type": "code",
   "execution_count": null,
   "metadata": {},
   "outputs": [],
   "source": [
    "    crash = [\n",
    "        Data.ACC_ID,\n",
    "        Data.ROAD_NO,\n",
    "        Data.CWAY,\n",
    "        Data.COMMON_ROAD_NAME,\n",
    "        Data.LONGITUDE,\n",
    "        Data.LATITUDE,\n",
    "        Data.ACCIDENT_TYPE,\n",
    "        Data.EVENT_NATURE,\n",
    "        Data.EVENT_TYPE,\n",
    "        Data.TOTAL_BIKE_INVOLVED,\n",
    "        Data.TOTAL_TRUCK_INVOLVED,\n",
    "        Data.TOTAL_HEAVY_TRUCK_INVOLVED,\n",
    "        Data.TOTAL_MOTOR_CYCLE_INVOLVED,\n",
    "        Data.TOTAL_OTHER_VEHICLES_INVOLVED,\n",
    "        Data.TOTAL_PEDESTRIANS_INVOLVED,\n",
    "        Data.CRASH_TIME_HRS,\n",
    "        Data.YEAR,\n",
    "        Data.MONTH,\n",
    "    ]\n",
    "    session = Session(engine)\n",
    "    print(\"%%%%%%%%%%%%%%\")\n",
    "\n",
    "    print(session)\n",
    "    # results = session.query(*crash).filter(Data.YEAR == year).all()\n",
    "    results = session.query(*crash).all()"
   ]
  },
  {
   "cell_type": "code",
   "execution_count": null,
   "metadata": {},
   "outputs": [],
   "source": [
    "\n",
    "    Data_json=[]\n",
    "    smpl_data = {}\n",
    "    for result in results:\n",
    "        smpl_data = {}\n",
    "        smpl_data[\"ACC_ID\"] = result[0]\n",
    "        smpl_data[\"ROAD_NO\"] = result[1]\n",
    "        smpl_data[\"CWAY\"] = result[2]\n",
    "        smpl_data[\"COMMON_ROAD_NAME\"] = result[3]\n",
    "        smpl_data[\"LONGITUDE\"] = result[4]\n",
    "        smpl_data[\"LATITUDE\"] = result[5]\n",
    "        smpl_data[\"ACCIDENT_TYPE\"] = result[6]\n",
    "        smpl_data[\"EVENT_NATURE\"] = result[7]\n",
    "        smpl_data[\"EVENT_TYPE\"] = result[8]\n",
    "        smpl_data[\"TOTAL_BIKE_INVOLVED\"] = result[9]\n",
    "        smpl_data[\"TOTAL_TRUCK_INVOLVED\"] = result[10]\n",
    "        smpl_data[\"TOTAL_HEAVY_TRUCK_INVOLVED\"] = result[11]\n",
    "        smpl_data[\"TOTAL_MOTOR_CYCLE_INVOLVED\"] = result[12]\n",
    "        smpl_data[\"TOTAL_OTHER_VEHICLES_INVOLVED\"] = result[13]\n",
    "        smpl_data[\"TOTAL_PEDESTRIANS_INVOLVED\"] = result[14]\n",
    "        smpl_data[\"CRASH_TIME_HRS\"] = result[15]\n",
    "        smpl_data[\"YEAR\"] = result[16]\n",
    "        smpl_data[\"MONTH\"] = result[17]\n",
    "        Data_json.append(smpl_data)\n",
    "Data_jsn"
   ]
  }
 ]
}