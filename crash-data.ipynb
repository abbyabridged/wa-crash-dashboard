{
 "metadata": {
  "language_info": {
   "codemirror_mode": {
    "name": "ipython",
    "version": 3
   },
   "file_extension": ".py",
   "mimetype": "text/x-python",
   "name": "python",
   "nbconvert_exporter": "python",
   "pygments_lexer": "ipython3",
   "version": "3.7.6-final"
  },
  "orig_nbformat": 2,
  "kernelspec": {
   "name": "Python 3.7.6 64-bit ('base')",
   "display_name": "Python 3.7.6 64-bit ('base')",
   "metadata": {
    "interpreter": {
     "hash": "e1bb0edf50e5b3d8f9735edbfe8e393c747028d16fdcf3dffb2658d1faedab56"
    }
   }
  }
 },
 "nbformat": 4,
 "nbformat_minor": 2,
 "cells": [
  {
   "cell_type": "code",
   "execution_count": 39,
   "metadata": {},
   "outputs": [],
   "source": [
    "import pandas as pd"
   ]
  },
  {
   "cell_type": "code",
   "execution_count": 40,
   "metadata": {},
   "outputs": [
    {
     "output_type": "execute_result",
     "data": {
      "text/plain": "                    crash_id                                       lat_long  \\\n0        SA2012-1-21/08/2019      (-34.914968707994774, 138.62326191400015)   \n1        SA2012-2-21/08/2019      (-34.945411892314496, 138.61069073873753)   \n2        SA2012-3-21/08/2019       (-35.348782706688546, 138.4547384995269)   \n3        SA2012-4-21/08/2019       (-34.91089013663556, 138.56464045685533)   \n4        SA2012-5-21/08/2019       (-34.90523508247097, 138.57241145966046)   \n...                      ...                                            ...   \n1519450           ACT1191639    ('-35.322394827659075', '149.122591278035')   \n1519451           ACT1179671  ('-35.257719368849614', '149.09035073772142')   \n1519452           ACT1031425    ('-35.18637928948423', '149.1191748900857')   \n1519453           ACT1098457   ('-35.352057245119155', '149.0852084486848')   \n1519454           ACT1140023     ('-35.263290412497', '149.14034360775764')   \n\n            date_time_id  description_id vehicles_id casualties_id  \n0           2012-1--7-16               0        1c1b            0c  \n1            2012-1--7-9               1          2c            0c  \n2           2012-1--3-11               2        2c1i            0c  \n3           2012-1--3-10               3          2w            0c  \n4           2012-1--3-15               4        1c1w            0c  \n...                  ...             ...         ...           ...  \n1519450    2018-9-3-1-18         1519450         NaN           NaN  \n1519451   2018-3-20-2-17         1519451         NaN           NaN  \n1519452   2012-3-27-2-15         1519452         NaN           NaN  \n1519453  2014-11-11-2-15         1519453         NaN           NaN  \n1519454   2016-7-14-4-10         1519454         NaN           NaN  \n\n[1519455 rows x 6 columns]",
      "text/html": "<div>\n<style scoped>\n    .dataframe tbody tr th:only-of-type {\n        vertical-align: middle;\n    }\n\n    .dataframe tbody tr th {\n        vertical-align: top;\n    }\n\n    .dataframe thead th {\n        text-align: right;\n    }\n</style>\n<table border=\"1\" class=\"dataframe\">\n  <thead>\n    <tr style=\"text-align: right;\">\n      <th></th>\n      <th>crash_id</th>\n      <th>lat_long</th>\n      <th>date_time_id</th>\n      <th>description_id</th>\n      <th>vehicles_id</th>\n      <th>casualties_id</th>\n    </tr>\n  </thead>\n  <tbody>\n    <tr>\n      <th>0</th>\n      <td>SA2012-1-21/08/2019</td>\n      <td>(-34.914968707994774, 138.62326191400015)</td>\n      <td>2012-1--7-16</td>\n      <td>0</td>\n      <td>1c1b</td>\n      <td>0c</td>\n    </tr>\n    <tr>\n      <th>1</th>\n      <td>SA2012-2-21/08/2019</td>\n      <td>(-34.945411892314496, 138.61069073873753)</td>\n      <td>2012-1--7-9</td>\n      <td>1</td>\n      <td>2c</td>\n      <td>0c</td>\n    </tr>\n    <tr>\n      <th>2</th>\n      <td>SA2012-3-21/08/2019</td>\n      <td>(-35.348782706688546, 138.4547384995269)</td>\n      <td>2012-1--3-11</td>\n      <td>2</td>\n      <td>2c1i</td>\n      <td>0c</td>\n    </tr>\n    <tr>\n      <th>3</th>\n      <td>SA2012-4-21/08/2019</td>\n      <td>(-34.91089013663556, 138.56464045685533)</td>\n      <td>2012-1--3-10</td>\n      <td>3</td>\n      <td>2w</td>\n      <td>0c</td>\n    </tr>\n    <tr>\n      <th>4</th>\n      <td>SA2012-5-21/08/2019</td>\n      <td>(-34.90523508247097, 138.57241145966046)</td>\n      <td>2012-1--3-15</td>\n      <td>4</td>\n      <td>1c1w</td>\n      <td>0c</td>\n    </tr>\n    <tr>\n      <th>...</th>\n      <td>...</td>\n      <td>...</td>\n      <td>...</td>\n      <td>...</td>\n      <td>...</td>\n      <td>...</td>\n    </tr>\n    <tr>\n      <th>1519450</th>\n      <td>ACT1191639</td>\n      <td>('-35.322394827659075', '149.122591278035')</td>\n      <td>2018-9-3-1-18</td>\n      <td>1519450</td>\n      <td>NaN</td>\n      <td>NaN</td>\n    </tr>\n    <tr>\n      <th>1519451</th>\n      <td>ACT1179671</td>\n      <td>('-35.257719368849614', '149.09035073772142')</td>\n      <td>2018-3-20-2-17</td>\n      <td>1519451</td>\n      <td>NaN</td>\n      <td>NaN</td>\n    </tr>\n    <tr>\n      <th>1519452</th>\n      <td>ACT1031425</td>\n      <td>('-35.18637928948423', '149.1191748900857')</td>\n      <td>2012-3-27-2-15</td>\n      <td>1519452</td>\n      <td>NaN</td>\n      <td>NaN</td>\n    </tr>\n    <tr>\n      <th>1519453</th>\n      <td>ACT1098457</td>\n      <td>('-35.352057245119155', '149.0852084486848')</td>\n      <td>2014-11-11-2-15</td>\n      <td>1519453</td>\n      <td>NaN</td>\n      <td>NaN</td>\n    </tr>\n    <tr>\n      <th>1519454</th>\n      <td>ACT1140023</td>\n      <td>('-35.263290412497', '149.14034360775764')</td>\n      <td>2016-7-14-4-10</td>\n      <td>1519454</td>\n      <td>NaN</td>\n      <td>NaN</td>\n    </tr>\n  </tbody>\n</table>\n<p>1519455 rows × 6 columns</p>\n</div>"
     },
     "metadata": {},
     "execution_count": 40
    }
   ],
   "source": [
    "csv_file = \"Resources/Crash2.csv\"\n",
    "crash_df = pd.read_csv(csv_file)\n",
    "crash_df"
   ]
  },
  {
   "cell_type": "code",
   "execution_count": 41,
   "metadata": {},
   "outputs": [
    {
     "output_type": "execute_result",
     "data": {
      "text/plain": "   Unnamed: 0  description_id         severity speed_limit  midblock  \\\n0           0               0  property_damage          60      True   \n1           1               1  property_damage          40      True   \n2           2               2  property_damage         100      True   \n3           3               3  property_damage          60     False   \n4           4               4  property_damage          60     False   \n\n   intersection road_position_horizontal road_position_vertical road_sealed  \\\n0         False                 straight                  level        True   \n1         False                 straight                  level        True   \n2         False                 straight                  slope        True   \n3          True                 straight                  level        True   \n4          True                 straight                  level        True   \n\n  road_wet weather          crash_type  lighting traffic_controls  \\\n0    False    fine         Right Angle  daylight             none   \n1    False    fine  Hit Parked Vehicle  daylight             none   \n2    False    fine               Other  daylight             none   \n3    False    fine            Rear End  daylight        stop_sign   \n4    False    fine            Rear End  daylight   traffic_lights   \n\n  drugs_alcohol  DCA_code comment  \n0           NaN       NaN     NaN  \n1           NaN       NaN     NaN  \n2           NaN       NaN     NaN  \n3           NaN       NaN     NaN  \n4           NaN       NaN     NaN  ",
      "text/html": "<div>\n<style scoped>\n    .dataframe tbody tr th:only-of-type {\n        vertical-align: middle;\n    }\n\n    .dataframe tbody tr th {\n        vertical-align: top;\n    }\n\n    .dataframe thead th {\n        text-align: right;\n    }\n</style>\n<table border=\"1\" class=\"dataframe\">\n  <thead>\n    <tr style=\"text-align: right;\">\n      <th></th>\n      <th>Unnamed: 0</th>\n      <th>description_id</th>\n      <th>severity</th>\n      <th>speed_limit</th>\n      <th>midblock</th>\n      <th>intersection</th>\n      <th>road_position_horizontal</th>\n      <th>road_position_vertical</th>\n      <th>road_sealed</th>\n      <th>road_wet</th>\n      <th>weather</th>\n      <th>crash_type</th>\n      <th>lighting</th>\n      <th>traffic_controls</th>\n      <th>drugs_alcohol</th>\n      <th>DCA_code</th>\n      <th>comment</th>\n    </tr>\n  </thead>\n  <tbody>\n    <tr>\n      <th>0</th>\n      <td>0</td>\n      <td>0</td>\n      <td>property_damage</td>\n      <td>60</td>\n      <td>True</td>\n      <td>False</td>\n      <td>straight</td>\n      <td>level</td>\n      <td>True</td>\n      <td>False</td>\n      <td>fine</td>\n      <td>Right Angle</td>\n      <td>daylight</td>\n      <td>none</td>\n      <td>NaN</td>\n      <td>NaN</td>\n      <td>NaN</td>\n    </tr>\n    <tr>\n      <th>1</th>\n      <td>1</td>\n      <td>1</td>\n      <td>property_damage</td>\n      <td>40</td>\n      <td>True</td>\n      <td>False</td>\n      <td>straight</td>\n      <td>level</td>\n      <td>True</td>\n      <td>False</td>\n      <td>fine</td>\n      <td>Hit Parked Vehicle</td>\n      <td>daylight</td>\n      <td>none</td>\n      <td>NaN</td>\n      <td>NaN</td>\n      <td>NaN</td>\n    </tr>\n    <tr>\n      <th>2</th>\n      <td>2</td>\n      <td>2</td>\n      <td>property_damage</td>\n      <td>100</td>\n      <td>True</td>\n      <td>False</td>\n      <td>straight</td>\n      <td>slope</td>\n      <td>True</td>\n      <td>False</td>\n      <td>fine</td>\n      <td>Other</td>\n      <td>daylight</td>\n      <td>none</td>\n      <td>NaN</td>\n      <td>NaN</td>\n      <td>NaN</td>\n    </tr>\n    <tr>\n      <th>3</th>\n      <td>3</td>\n      <td>3</td>\n      <td>property_damage</td>\n      <td>60</td>\n      <td>False</td>\n      <td>True</td>\n      <td>straight</td>\n      <td>level</td>\n      <td>True</td>\n      <td>False</td>\n      <td>fine</td>\n      <td>Rear End</td>\n      <td>daylight</td>\n      <td>stop_sign</td>\n      <td>NaN</td>\n      <td>NaN</td>\n      <td>NaN</td>\n    </tr>\n    <tr>\n      <th>4</th>\n      <td>4</td>\n      <td>4</td>\n      <td>property_damage</td>\n      <td>60</td>\n      <td>False</td>\n      <td>True</td>\n      <td>straight</td>\n      <td>level</td>\n      <td>True</td>\n      <td>False</td>\n      <td>fine</td>\n      <td>Rear End</td>\n      <td>daylight</td>\n      <td>traffic_lights</td>\n      <td>NaN</td>\n      <td>NaN</td>\n      <td>NaN</td>\n    </tr>\n  </tbody>\n</table>\n</div>"
     },
     "metadata": {},
     "execution_count": 41
    }
   ],
   "source": [
    "csv_file = \"Resources/Description.csv\"\n",
    "description_df = pd.read_csv(csv_file)\n",
    "description_df.head()"
   ]
  },
  {
   "cell_type": "code",
   "execution_count": 42,
   "metadata": {},
   "outputs": [
    {
     "output_type": "execute_result",
     "data": {
      "text/plain": "   Unnamed: 0 casualties_id  casualties  fatalities  serious_injuries  \\\n0           0            0c         0.0         0.0               0.0   \n1          16          1c1m         1.0         0.0               0.0   \n2          57          2c2m         2.0         0.0               0.0   \n3         270          1c1s         1.0         0.0               1.0   \n4         573          1c1f         1.0         1.0               0.0   \n\n   minor_injuries  \n0             0.0  \n1             1.0  \n2             2.0  \n3             0.0  \n4             0.0  ",
      "text/html": "<div>\n<style scoped>\n    .dataframe tbody tr th:only-of-type {\n        vertical-align: middle;\n    }\n\n    .dataframe tbody tr th {\n        vertical-align: top;\n    }\n\n    .dataframe thead th {\n        text-align: right;\n    }\n</style>\n<table border=\"1\" class=\"dataframe\">\n  <thead>\n    <tr style=\"text-align: right;\">\n      <th></th>\n      <th>Unnamed: 0</th>\n      <th>casualties_id</th>\n      <th>casualties</th>\n      <th>fatalities</th>\n      <th>serious_injuries</th>\n      <th>minor_injuries</th>\n    </tr>\n  </thead>\n  <tbody>\n    <tr>\n      <th>0</th>\n      <td>0</td>\n      <td>0c</td>\n      <td>0.0</td>\n      <td>0.0</td>\n      <td>0.0</td>\n      <td>0.0</td>\n    </tr>\n    <tr>\n      <th>1</th>\n      <td>16</td>\n      <td>1c1m</td>\n      <td>1.0</td>\n      <td>0.0</td>\n      <td>0.0</td>\n      <td>1.0</td>\n    </tr>\n    <tr>\n      <th>2</th>\n      <td>57</td>\n      <td>2c2m</td>\n      <td>2.0</td>\n      <td>0.0</td>\n      <td>0.0</td>\n      <td>2.0</td>\n    </tr>\n    <tr>\n      <th>3</th>\n      <td>270</td>\n      <td>1c1s</td>\n      <td>1.0</td>\n      <td>0.0</td>\n      <td>1.0</td>\n      <td>0.0</td>\n    </tr>\n    <tr>\n      <th>4</th>\n      <td>573</td>\n      <td>1c1f</td>\n      <td>1.0</td>\n      <td>1.0</td>\n      <td>0.0</td>\n      <td>0.0</td>\n    </tr>\n  </tbody>\n</table>\n</div>"
     },
     "metadata": {},
     "execution_count": 42
    }
   ],
   "source": [
    "csv_file = \"Resources/Casualties.csv\"\n",
    "casualties_df = pd.read_csv(csv_file)\n",
    "casualties_df.head()"
   ]
  },
  {
   "cell_type": "code",
   "execution_count": 43,
   "metadata": {},
   "outputs": [
    {
     "output_type": "execute_result",
     "data": {
      "text/plain": "                                    lat_long   latitude   longitude country  \\\n0  (-34.914968707994774, 138.62326191400015) -34.914969  138.623262      AU   \n1  (-34.945411892314496, 138.61069073873753) -34.945412  138.610691      AU   \n2   (-35.348782706688546, 138.4547384995269) -35.348783  138.454738      AU   \n3   (-34.91089013663556, 138.56464045685533) -34.910890  138.564640      AU   \n4   (-34.90523508247097, 138.57241145966046) -34.905235  138.572411      AU   \n\n  state               local_government_area statistical_area          suburb  \n0    SA  CC OF NORWOOD,PAYNEHAM & ST PETERS              NaN         STEPNEY  \n1    SA                       CITY OF UNLEY              NaN        PARKSIDE  \n2    SA                 CITY OF ONKAPARINGA              NaN  SELLICKS BEACH  \n3    SA               CITY OF CHARLES STURT              NaN       HINDMARSH  \n4    SA               CITY OF CHARLES STURT              NaN       HINDMARSH  ",
      "text/html": "<div>\n<style scoped>\n    .dataframe tbody tr th:only-of-type {\n        vertical-align: middle;\n    }\n\n    .dataframe tbody tr th {\n        vertical-align: top;\n    }\n\n    .dataframe thead th {\n        text-align: right;\n    }\n</style>\n<table border=\"1\" class=\"dataframe\">\n  <thead>\n    <tr style=\"text-align: right;\">\n      <th></th>\n      <th>lat_long</th>\n      <th>latitude</th>\n      <th>longitude</th>\n      <th>country</th>\n      <th>state</th>\n      <th>local_government_area</th>\n      <th>statistical_area</th>\n      <th>suburb</th>\n    </tr>\n  </thead>\n  <tbody>\n    <tr>\n      <th>0</th>\n      <td>(-34.914968707994774, 138.62326191400015)</td>\n      <td>-34.914969</td>\n      <td>138.623262</td>\n      <td>AU</td>\n      <td>SA</td>\n      <td>CC OF NORWOOD,PAYNEHAM &amp; ST PETERS</td>\n      <td>NaN</td>\n      <td>STEPNEY</td>\n    </tr>\n    <tr>\n      <th>1</th>\n      <td>(-34.945411892314496, 138.61069073873753)</td>\n      <td>-34.945412</td>\n      <td>138.610691</td>\n      <td>AU</td>\n      <td>SA</td>\n      <td>CITY OF UNLEY</td>\n      <td>NaN</td>\n      <td>PARKSIDE</td>\n    </tr>\n    <tr>\n      <th>2</th>\n      <td>(-35.348782706688546, 138.4547384995269)</td>\n      <td>-35.348783</td>\n      <td>138.454738</td>\n      <td>AU</td>\n      <td>SA</td>\n      <td>CITY OF ONKAPARINGA</td>\n      <td>NaN</td>\n      <td>SELLICKS BEACH</td>\n    </tr>\n    <tr>\n      <th>3</th>\n      <td>(-34.91089013663556, 138.56464045685533)</td>\n      <td>-34.910890</td>\n      <td>138.564640</td>\n      <td>AU</td>\n      <td>SA</td>\n      <td>CITY OF CHARLES STURT</td>\n      <td>NaN</td>\n      <td>HINDMARSH</td>\n    </tr>\n    <tr>\n      <th>4</th>\n      <td>(-34.90523508247097, 138.57241145966046)</td>\n      <td>-34.905235</td>\n      <td>138.572411</td>\n      <td>AU</td>\n      <td>SA</td>\n      <td>CITY OF CHARLES STURT</td>\n      <td>NaN</td>\n      <td>HINDMARSH</td>\n    </tr>\n  </tbody>\n</table>\n</div>"
     },
     "metadata": {},
     "execution_count": 43
    }
   ],
   "source": [
    "csv_file = \"Resources/Location2.csv\"\n",
    "location_df = pd.read_csv(csv_file)\n",
    "location_df.head()"
   ]
  },
  {
   "cell_type": "code",
   "execution_count": 44,
   "metadata": {},
   "outputs": [
    {
     "output_type": "execute_result",
     "data": {
      "text/plain": "   Unnamed: 0 vehicles_id  animals  car_sedan  car_utility  car_van  car_4x4  \\\n0           0        1c1b      0.0        1.0          0.0      0.0      0.0   \n1           1          2c      0.0        2.0          0.0      0.0      0.0   \n2           2        2c1i      0.0        2.0          0.0      0.0      0.0   \n3           3          2w      0.0        0.0          0.0      0.0      0.0   \n4           4        1c1w      0.0        1.0          0.0      0.0      0.0   \n\n   car_station_wagon  motor_cycle  truck_small  truck_large  bus  taxi  \\\n0                0.0          0.0          0.0          0.0  0.0   0.0   \n1                0.0          0.0          0.0          0.0  0.0   0.0   \n2                0.0          0.0          0.0          0.0  0.0   0.0   \n3                2.0          0.0          0.0          0.0  0.0   0.0   \n4                1.0          0.0          0.0          0.0  0.0   0.0   \n\n   bicycle  scooter  pedestrian  inanimate  train  tram  vehicle_other  \n0      1.0      0.0         0.0        0.0    0.0   0.0            0.0  \n1      0.0      0.0         0.0        0.0    0.0   0.0            0.0  \n2      0.0      0.0         0.0        1.0    0.0   0.0            0.0  \n3      0.0      0.0         0.0        0.0    0.0   0.0            0.0  \n4      0.0      0.0         0.0        0.0    0.0   0.0            0.0  ",
      "text/html": "<div>\n<style scoped>\n    .dataframe tbody tr th:only-of-type {\n        vertical-align: middle;\n    }\n\n    .dataframe tbody tr th {\n        vertical-align: top;\n    }\n\n    .dataframe thead th {\n        text-align: right;\n    }\n</style>\n<table border=\"1\" class=\"dataframe\">\n  <thead>\n    <tr style=\"text-align: right;\">\n      <th></th>\n      <th>Unnamed: 0</th>\n      <th>vehicles_id</th>\n      <th>animals</th>\n      <th>car_sedan</th>\n      <th>car_utility</th>\n      <th>car_van</th>\n      <th>car_4x4</th>\n      <th>car_station_wagon</th>\n      <th>motor_cycle</th>\n      <th>truck_small</th>\n      <th>truck_large</th>\n      <th>bus</th>\n      <th>taxi</th>\n      <th>bicycle</th>\n      <th>scooter</th>\n      <th>pedestrian</th>\n      <th>inanimate</th>\n      <th>train</th>\n      <th>tram</th>\n      <th>vehicle_other</th>\n    </tr>\n  </thead>\n  <tbody>\n    <tr>\n      <th>0</th>\n      <td>0</td>\n      <td>1c1b</td>\n      <td>0.0</td>\n      <td>1.0</td>\n      <td>0.0</td>\n      <td>0.0</td>\n      <td>0.0</td>\n      <td>0.0</td>\n      <td>0.0</td>\n      <td>0.0</td>\n      <td>0.0</td>\n      <td>0.0</td>\n      <td>0.0</td>\n      <td>1.0</td>\n      <td>0.0</td>\n      <td>0.0</td>\n      <td>0.0</td>\n      <td>0.0</td>\n      <td>0.0</td>\n      <td>0.0</td>\n    </tr>\n    <tr>\n      <th>1</th>\n      <td>1</td>\n      <td>2c</td>\n      <td>0.0</td>\n      <td>2.0</td>\n      <td>0.0</td>\n      <td>0.0</td>\n      <td>0.0</td>\n      <td>0.0</td>\n      <td>0.0</td>\n      <td>0.0</td>\n      <td>0.0</td>\n      <td>0.0</td>\n      <td>0.0</td>\n      <td>0.0</td>\n      <td>0.0</td>\n      <td>0.0</td>\n      <td>0.0</td>\n      <td>0.0</td>\n      <td>0.0</td>\n      <td>0.0</td>\n    </tr>\n    <tr>\n      <th>2</th>\n      <td>2</td>\n      <td>2c1i</td>\n      <td>0.0</td>\n      <td>2.0</td>\n      <td>0.0</td>\n      <td>0.0</td>\n      <td>0.0</td>\n      <td>0.0</td>\n      <td>0.0</td>\n      <td>0.0</td>\n      <td>0.0</td>\n      <td>0.0</td>\n      <td>0.0</td>\n      <td>0.0</td>\n      <td>0.0</td>\n      <td>0.0</td>\n      <td>1.0</td>\n      <td>0.0</td>\n      <td>0.0</td>\n      <td>0.0</td>\n    </tr>\n    <tr>\n      <th>3</th>\n      <td>3</td>\n      <td>2w</td>\n      <td>0.0</td>\n      <td>0.0</td>\n      <td>0.0</td>\n      <td>0.0</td>\n      <td>0.0</td>\n      <td>2.0</td>\n      <td>0.0</td>\n      <td>0.0</td>\n      <td>0.0</td>\n      <td>0.0</td>\n      <td>0.0</td>\n      <td>0.0</td>\n      <td>0.0</td>\n      <td>0.0</td>\n      <td>0.0</td>\n      <td>0.0</td>\n      <td>0.0</td>\n      <td>0.0</td>\n    </tr>\n    <tr>\n      <th>4</th>\n      <td>4</td>\n      <td>1c1w</td>\n      <td>0.0</td>\n      <td>1.0</td>\n      <td>0.0</td>\n      <td>0.0</td>\n      <td>0.0</td>\n      <td>1.0</td>\n      <td>0.0</td>\n      <td>0.0</td>\n      <td>0.0</td>\n      <td>0.0</td>\n      <td>0.0</td>\n      <td>0.0</td>\n      <td>0.0</td>\n      <td>0.0</td>\n      <td>0.0</td>\n      <td>0.0</td>\n      <td>0.0</td>\n      <td>0.0</td>\n    </tr>\n  </tbody>\n</table>\n</div>"
     },
     "metadata": {},
     "execution_count": 44
    }
   ],
   "source": [
    "csv_file = \"Resources/Vehicles.csv\"\n",
    "vehicles_df = pd.read_csv(csv_file)\n",
    "vehicles_df.head()"
   ]
  },
  {
   "cell_type": "code",
   "execution_count": 45,
   "metadata": {
    "tags": []
   },
   "outputs": [
    {
     "output_type": "execute_result",
     "data": {
      "text/plain": "Unnamed: 0           1519432\ndate_time_id    2019-9-9-1-9\nyear                    2019\nmonth                     12\nday_of_week                7\nday_of_month              31\nhour                      23\napproximate             True\ndtype: object"
     },
     "metadata": {},
     "execution_count": 45
    }
   ],
   "source": [
    "csv_file = \"Resources/DateTime.csv\"\n",
    "datetime_df = pd.read_csv(csv_file)\n",
    "datetime_df.max()"
   ]
  },
  {
   "cell_type": "code",
   "execution_count": 46,
   "metadata": {},
   "outputs": [
    {
     "output_type": "execute_result",
     "data": {
      "text/plain": "        Unnamed: 0   date_time_id  year  month  day_of_week  day_of_month  \\\n5650         55666   2015-1--3-13  2015    1.0          3.0           NaN   \n5651         55667   2015-2--2-15  2015    2.0          2.0           NaN   \n5652         55668   2015-3--2-13  2015    3.0          2.0           NaN   \n5653         55669   2015-1--5-11  2015    1.0          5.0           NaN   \n5654         55670   2015-1--7-18  2015    1.0          7.0           NaN   \n...            ...            ...   ...    ...          ...           ...   \n127494     1518983   2016-6-6-1-3  2016    6.0          1.0           6.0   \n127497     1519142  2017-9-1-5-20  2017    9.0          5.0           1.0   \n127498     1519163  2019-4-30-2-4  2019    4.0          2.0          30.0   \n127500     1519218  2019-5-2-4-22  2019    5.0          4.0           2.0   \n127504     1519432  2017-8-6-7-23  2017    8.0          7.0           6.0   \n\n        hour  approximate  \n5650    13.0         True  \n5651    15.0         True  \n5652    13.0         True  \n5653    11.0         True  \n5654    18.0         True  \n...      ...          ...  \n127494   3.0        False  \n127497  20.0        False  \n127498   4.0        False  \n127500  22.0        False  \n127504  23.0        False  \n\n[43596 rows x 8 columns]",
      "text/html": "<div>\n<style scoped>\n    .dataframe tbody tr th:only-of-type {\n        vertical-align: middle;\n    }\n\n    .dataframe tbody tr th {\n        vertical-align: top;\n    }\n\n    .dataframe thead th {\n        text-align: right;\n    }\n</style>\n<table border=\"1\" class=\"dataframe\">\n  <thead>\n    <tr style=\"text-align: right;\">\n      <th></th>\n      <th>Unnamed: 0</th>\n      <th>date_time_id</th>\n      <th>year</th>\n      <th>month</th>\n      <th>day_of_week</th>\n      <th>day_of_month</th>\n      <th>hour</th>\n      <th>approximate</th>\n    </tr>\n  </thead>\n  <tbody>\n    <tr>\n      <th>5650</th>\n      <td>55666</td>\n      <td>2015-1--3-13</td>\n      <td>2015</td>\n      <td>1.0</td>\n      <td>3.0</td>\n      <td>NaN</td>\n      <td>13.0</td>\n      <td>True</td>\n    </tr>\n    <tr>\n      <th>5651</th>\n      <td>55667</td>\n      <td>2015-2--2-15</td>\n      <td>2015</td>\n      <td>2.0</td>\n      <td>2.0</td>\n      <td>NaN</td>\n      <td>15.0</td>\n      <td>True</td>\n    </tr>\n    <tr>\n      <th>5652</th>\n      <td>55668</td>\n      <td>2015-3--2-13</td>\n      <td>2015</td>\n      <td>3.0</td>\n      <td>2.0</td>\n      <td>NaN</td>\n      <td>13.0</td>\n      <td>True</td>\n    </tr>\n    <tr>\n      <th>5653</th>\n      <td>55669</td>\n      <td>2015-1--5-11</td>\n      <td>2015</td>\n      <td>1.0</td>\n      <td>5.0</td>\n      <td>NaN</td>\n      <td>11.0</td>\n      <td>True</td>\n    </tr>\n    <tr>\n      <th>5654</th>\n      <td>55670</td>\n      <td>2015-1--7-18</td>\n      <td>2015</td>\n      <td>1.0</td>\n      <td>7.0</td>\n      <td>NaN</td>\n      <td>18.0</td>\n      <td>True</td>\n    </tr>\n    <tr>\n      <th>...</th>\n      <td>...</td>\n      <td>...</td>\n      <td>...</td>\n      <td>...</td>\n      <td>...</td>\n      <td>...</td>\n      <td>...</td>\n      <td>...</td>\n    </tr>\n    <tr>\n      <th>127494</th>\n      <td>1518983</td>\n      <td>2016-6-6-1-3</td>\n      <td>2016</td>\n      <td>6.0</td>\n      <td>1.0</td>\n      <td>6.0</td>\n      <td>3.0</td>\n      <td>False</td>\n    </tr>\n    <tr>\n      <th>127497</th>\n      <td>1519142</td>\n      <td>2017-9-1-5-20</td>\n      <td>2017</td>\n      <td>9.0</td>\n      <td>5.0</td>\n      <td>1.0</td>\n      <td>20.0</td>\n      <td>False</td>\n    </tr>\n    <tr>\n      <th>127498</th>\n      <td>1519163</td>\n      <td>2019-4-30-2-4</td>\n      <td>2019</td>\n      <td>4.0</td>\n      <td>2.0</td>\n      <td>30.0</td>\n      <td>4.0</td>\n      <td>False</td>\n    </tr>\n    <tr>\n      <th>127500</th>\n      <td>1519218</td>\n      <td>2019-5-2-4-22</td>\n      <td>2019</td>\n      <td>5.0</td>\n      <td>4.0</td>\n      <td>2.0</td>\n      <td>22.0</td>\n      <td>False</td>\n    </tr>\n    <tr>\n      <th>127504</th>\n      <td>1519432</td>\n      <td>2017-8-6-7-23</td>\n      <td>2017</td>\n      <td>8.0</td>\n      <td>7.0</td>\n      <td>6.0</td>\n      <td>23.0</td>\n      <td>False</td>\n    </tr>\n  </tbody>\n</table>\n<p>43596 rows × 8 columns</p>\n</div>"
     },
     "metadata": {},
     "execution_count": 46
    }
   ],
   "source": [
    "clean_datetime_df = datetime_df.loc[(datetime_df[\"year\"]>2014)]\n",
    "clean_datetime_df"
   ]
  },
  {
   "cell_type": "code",
   "execution_count": 47,
   "metadata": {},
   "outputs": [
    {
     "output_type": "execute_result",
     "data": {
      "text/plain": "                        lat_long   latitude   longitude country state  \\\n787383  (-21.861545, 115.686308) -21.861545  115.686308      AU    WA   \n787384  (-31.993822, 115.912986) -31.993822  115.912986      AU    WA   \n787385  (-32.092824, 115.849329) -32.092824  115.849329      AU    WA   \n787386  (-31.974316, 115.965999) -31.974316  115.965999      AU    WA   \n787387  (-31.903081, 115.809726) -31.903081  115.809726      AU    WA   \n...                          ...        ...         ...     ...   ...   \n860946  (-31.752308, 115.767365) -31.752308  115.767365      AU    WA   \n860947  (-31.934415, 115.883382) -31.934415  115.883382      AU    WA   \n860948  (-32.012435, 115.863171) -32.012435  115.863171      AU    WA   \n860949  (-31.710951, 115.794734) -31.710951  115.794734      AU    WA   \n860950   (-31.734962, 115.77177) -31.734962  115.771770      AU    WA   \n\n       local_government_area statistical_area suburb  \n787383                   NaN              NaN    NaN  \n787384                   NaN              NaN    NaN  \n787385                   NaN              NaN    NaN  \n787386                   NaN              NaN    NaN  \n787387                   NaN              NaN    NaN  \n...                      ...              ...    ...  \n860946                   NaN              NaN    NaN  \n860947                   NaN              NaN    NaN  \n860948                   NaN              NaN    NaN  \n860949                   NaN              NaN    NaN  \n860950                   NaN              NaN    NaN  \n\n[73568 rows x 8 columns]",
      "text/html": "<div>\n<style scoped>\n    .dataframe tbody tr th:only-of-type {\n        vertical-align: middle;\n    }\n\n    .dataframe tbody tr th {\n        vertical-align: top;\n    }\n\n    .dataframe thead th {\n        text-align: right;\n    }\n</style>\n<table border=\"1\" class=\"dataframe\">\n  <thead>\n    <tr style=\"text-align: right;\">\n      <th></th>\n      <th>lat_long</th>\n      <th>latitude</th>\n      <th>longitude</th>\n      <th>country</th>\n      <th>state</th>\n      <th>local_government_area</th>\n      <th>statistical_area</th>\n      <th>suburb</th>\n    </tr>\n  </thead>\n  <tbody>\n    <tr>\n      <th>787383</th>\n      <td>(-21.861545, 115.686308)</td>\n      <td>-21.861545</td>\n      <td>115.686308</td>\n      <td>AU</td>\n      <td>WA</td>\n      <td>NaN</td>\n      <td>NaN</td>\n      <td>NaN</td>\n    </tr>\n    <tr>\n      <th>787384</th>\n      <td>(-31.993822, 115.912986)</td>\n      <td>-31.993822</td>\n      <td>115.912986</td>\n      <td>AU</td>\n      <td>WA</td>\n      <td>NaN</td>\n      <td>NaN</td>\n      <td>NaN</td>\n    </tr>\n    <tr>\n      <th>787385</th>\n      <td>(-32.092824, 115.849329)</td>\n      <td>-32.092824</td>\n      <td>115.849329</td>\n      <td>AU</td>\n      <td>WA</td>\n      <td>NaN</td>\n      <td>NaN</td>\n      <td>NaN</td>\n    </tr>\n    <tr>\n      <th>787386</th>\n      <td>(-31.974316, 115.965999)</td>\n      <td>-31.974316</td>\n      <td>115.965999</td>\n      <td>AU</td>\n      <td>WA</td>\n      <td>NaN</td>\n      <td>NaN</td>\n      <td>NaN</td>\n    </tr>\n    <tr>\n      <th>787387</th>\n      <td>(-31.903081, 115.809726)</td>\n      <td>-31.903081</td>\n      <td>115.809726</td>\n      <td>AU</td>\n      <td>WA</td>\n      <td>NaN</td>\n      <td>NaN</td>\n      <td>NaN</td>\n    </tr>\n    <tr>\n      <th>...</th>\n      <td>...</td>\n      <td>...</td>\n      <td>...</td>\n      <td>...</td>\n      <td>...</td>\n      <td>...</td>\n      <td>...</td>\n      <td>...</td>\n    </tr>\n    <tr>\n      <th>860946</th>\n      <td>(-31.752308, 115.767365)</td>\n      <td>-31.752308</td>\n      <td>115.767365</td>\n      <td>AU</td>\n      <td>WA</td>\n      <td>NaN</td>\n      <td>NaN</td>\n      <td>NaN</td>\n    </tr>\n    <tr>\n      <th>860947</th>\n      <td>(-31.934415, 115.883382)</td>\n      <td>-31.934415</td>\n      <td>115.883382</td>\n      <td>AU</td>\n      <td>WA</td>\n      <td>NaN</td>\n      <td>NaN</td>\n      <td>NaN</td>\n    </tr>\n    <tr>\n      <th>860948</th>\n      <td>(-32.012435, 115.863171)</td>\n      <td>-32.012435</td>\n      <td>115.863171</td>\n      <td>AU</td>\n      <td>WA</td>\n      <td>NaN</td>\n      <td>NaN</td>\n      <td>NaN</td>\n    </tr>\n    <tr>\n      <th>860949</th>\n      <td>(-31.710951, 115.794734)</td>\n      <td>-31.710951</td>\n      <td>115.794734</td>\n      <td>AU</td>\n      <td>WA</td>\n      <td>NaN</td>\n      <td>NaN</td>\n      <td>NaN</td>\n    </tr>\n    <tr>\n      <th>860950</th>\n      <td>(-31.734962, 115.77177)</td>\n      <td>-31.734962</td>\n      <td>115.771770</td>\n      <td>AU</td>\n      <td>WA</td>\n      <td>NaN</td>\n      <td>NaN</td>\n      <td>NaN</td>\n    </tr>\n  </tbody>\n</table>\n<p>73568 rows × 8 columns</p>\n</div>"
     },
     "metadata": {},
     "execution_count": 47
    }
   ],
   "source": [
    "clean_location_df = location_df.loc[(location_df[\"state\"]==\"WA\")]\n",
    "clean_location_df"
   ]
  },
  {
   "cell_type": "code",
   "execution_count": 48,
   "metadata": {},
   "outputs": [
    {
     "output_type": "execute_result",
     "data": {
      "text/plain": "                      crash_id                                       lat_long  \\\n0          SA2015-1-21/08/2019       (-34.74885571956653, 138.66678305982683)   \n1        SA2015-711-21/08/2019       (-34.91403408062608, 138.64046144828816)   \n2       SA2015-1220-21/08/2019       (-34.78902768443172, 138.69683655195664)   \n3                    QLD277007                       (-27.464934, 153.029545)   \n4                    QLD244073                       (-27.556996, 152.931601)   \n...                        ...                                            ...   \n460287              ACT1136698   ('-35.24060549567644', '149.05333423411497')   \n460288              ACT1167454   ('-35.24196308698188', '149.06166218678794')   \n460289              ACT1205806  ('-35.314614872234905', '149.02675390781653')   \n460290              ACT1205907  ('-35.402989375078356', '149.10651175137326')   \n460291              ACT1164903  ('-35.264825849829116', '149.18715859618888')   \n\n         date_time_id  description_id vehicles_id casualties_id  Unnamed: 0  \\\n0        2015-1--3-13           55666        1c1T          1c1m       55666   \n1        2015-1--3-13           56376        1c1w            0c       55666   \n2        2015-1--3-13           56885        2c1w            0c       55666   \n3        2015-1--3-13         1003836          2c          3c3m       55666   \n4        2015-1--3-13         1037459          2c          1c1m       55666   \n...               ...             ...         ...           ...         ...   \n460287   2016-6-6-1-3         1518983         NaN           NaN     1518983   \n460288  2017-9-1-5-20         1519142         NaN           NaN     1519142   \n460289  2019-4-30-2-4         1519163         NaN           NaN     1519163   \n460290  2019-5-2-4-22         1519218         NaN           NaN     1519218   \n460291  2017-8-6-7-23         1519432         NaN           NaN     1519432   \n\n        year  month  day_of_week  day_of_month  hour  approximate  \n0       2015    1.0          3.0           NaN  13.0         True  \n1       2015    1.0          3.0           NaN  13.0         True  \n2       2015    1.0          3.0           NaN  13.0         True  \n3       2015    1.0          3.0           NaN  13.0         True  \n4       2015    1.0          3.0           NaN  13.0         True  \n...      ...    ...          ...           ...   ...          ...  \n460287  2016    6.0          1.0           6.0   3.0        False  \n460288  2017    9.0          5.0           1.0  20.0        False  \n460289  2019    4.0          2.0          30.0   4.0        False  \n460290  2019    5.0          4.0           2.0  22.0        False  \n460291  2017    8.0          7.0           6.0  23.0        False  \n\n[460292 rows x 13 columns]",
      "text/html": "<div>\n<style scoped>\n    .dataframe tbody tr th:only-of-type {\n        vertical-align: middle;\n    }\n\n    .dataframe tbody tr th {\n        vertical-align: top;\n    }\n\n    .dataframe thead th {\n        text-align: right;\n    }\n</style>\n<table border=\"1\" class=\"dataframe\">\n  <thead>\n    <tr style=\"text-align: right;\">\n      <th></th>\n      <th>crash_id</th>\n      <th>lat_long</th>\n      <th>date_time_id</th>\n      <th>description_id</th>\n      <th>vehicles_id</th>\n      <th>casualties_id</th>\n      <th>Unnamed: 0</th>\n      <th>year</th>\n      <th>month</th>\n      <th>day_of_week</th>\n      <th>day_of_month</th>\n      <th>hour</th>\n      <th>approximate</th>\n    </tr>\n  </thead>\n  <tbody>\n    <tr>\n      <th>0</th>\n      <td>SA2015-1-21/08/2019</td>\n      <td>(-34.74885571956653, 138.66678305982683)</td>\n      <td>2015-1--3-13</td>\n      <td>55666</td>\n      <td>1c1T</td>\n      <td>1c1m</td>\n      <td>55666</td>\n      <td>2015</td>\n      <td>1.0</td>\n      <td>3.0</td>\n      <td>NaN</td>\n      <td>13.0</td>\n      <td>True</td>\n    </tr>\n    <tr>\n      <th>1</th>\n      <td>SA2015-711-21/08/2019</td>\n      <td>(-34.91403408062608, 138.64046144828816)</td>\n      <td>2015-1--3-13</td>\n      <td>56376</td>\n      <td>1c1w</td>\n      <td>0c</td>\n      <td>55666</td>\n      <td>2015</td>\n      <td>1.0</td>\n      <td>3.0</td>\n      <td>NaN</td>\n      <td>13.0</td>\n      <td>True</td>\n    </tr>\n    <tr>\n      <th>2</th>\n      <td>SA2015-1220-21/08/2019</td>\n      <td>(-34.78902768443172, 138.69683655195664)</td>\n      <td>2015-1--3-13</td>\n      <td>56885</td>\n      <td>2c1w</td>\n      <td>0c</td>\n      <td>55666</td>\n      <td>2015</td>\n      <td>1.0</td>\n      <td>3.0</td>\n      <td>NaN</td>\n      <td>13.0</td>\n      <td>True</td>\n    </tr>\n    <tr>\n      <th>3</th>\n      <td>QLD277007</td>\n      <td>(-27.464934, 153.029545)</td>\n      <td>2015-1--3-13</td>\n      <td>1003836</td>\n      <td>2c</td>\n      <td>3c3m</td>\n      <td>55666</td>\n      <td>2015</td>\n      <td>1.0</td>\n      <td>3.0</td>\n      <td>NaN</td>\n      <td>13.0</td>\n      <td>True</td>\n    </tr>\n    <tr>\n      <th>4</th>\n      <td>QLD244073</td>\n      <td>(-27.556996, 152.931601)</td>\n      <td>2015-1--3-13</td>\n      <td>1037459</td>\n      <td>2c</td>\n      <td>1c1m</td>\n      <td>55666</td>\n      <td>2015</td>\n      <td>1.0</td>\n      <td>3.0</td>\n      <td>NaN</td>\n      <td>13.0</td>\n      <td>True</td>\n    </tr>\n    <tr>\n      <th>...</th>\n      <td>...</td>\n      <td>...</td>\n      <td>...</td>\n      <td>...</td>\n      <td>...</td>\n      <td>...</td>\n      <td>...</td>\n      <td>...</td>\n      <td>...</td>\n      <td>...</td>\n      <td>...</td>\n      <td>...</td>\n      <td>...</td>\n    </tr>\n    <tr>\n      <th>460287</th>\n      <td>ACT1136698</td>\n      <td>('-35.24060549567644', '149.05333423411497')</td>\n      <td>2016-6-6-1-3</td>\n      <td>1518983</td>\n      <td>NaN</td>\n      <td>NaN</td>\n      <td>1518983</td>\n      <td>2016</td>\n      <td>6.0</td>\n      <td>1.0</td>\n      <td>6.0</td>\n      <td>3.0</td>\n      <td>False</td>\n    </tr>\n    <tr>\n      <th>460288</th>\n      <td>ACT1167454</td>\n      <td>('-35.24196308698188', '149.06166218678794')</td>\n      <td>2017-9-1-5-20</td>\n      <td>1519142</td>\n      <td>NaN</td>\n      <td>NaN</td>\n      <td>1519142</td>\n      <td>2017</td>\n      <td>9.0</td>\n      <td>5.0</td>\n      <td>1.0</td>\n      <td>20.0</td>\n      <td>False</td>\n    </tr>\n    <tr>\n      <th>460289</th>\n      <td>ACT1205806</td>\n      <td>('-35.314614872234905', '149.02675390781653')</td>\n      <td>2019-4-30-2-4</td>\n      <td>1519163</td>\n      <td>NaN</td>\n      <td>NaN</td>\n      <td>1519163</td>\n      <td>2019</td>\n      <td>4.0</td>\n      <td>2.0</td>\n      <td>30.0</td>\n      <td>4.0</td>\n      <td>False</td>\n    </tr>\n    <tr>\n      <th>460290</th>\n      <td>ACT1205907</td>\n      <td>('-35.402989375078356', '149.10651175137326')</td>\n      <td>2019-5-2-4-22</td>\n      <td>1519218</td>\n      <td>NaN</td>\n      <td>NaN</td>\n      <td>1519218</td>\n      <td>2019</td>\n      <td>5.0</td>\n      <td>4.0</td>\n      <td>2.0</td>\n      <td>22.0</td>\n      <td>False</td>\n    </tr>\n    <tr>\n      <th>460291</th>\n      <td>ACT1164903</td>\n      <td>('-35.264825849829116', '149.18715859618888')</td>\n      <td>2017-8-6-7-23</td>\n      <td>1519432</td>\n      <td>NaN</td>\n      <td>NaN</td>\n      <td>1519432</td>\n      <td>2017</td>\n      <td>8.0</td>\n      <td>7.0</td>\n      <td>6.0</td>\n      <td>23.0</td>\n      <td>False</td>\n    </tr>\n  </tbody>\n</table>\n<p>460292 rows × 13 columns</p>\n</div>"
     },
     "metadata": {},
     "execution_count": 48
    }
   ],
   "source": [
    "merge_crash_date_df = pd.merge(crash_df,clean_datetime_df,on=\"date_time_id\",how=\"inner\")\n",
    "merge_crash_date_df"
   ]
  },
  {
   "cell_type": "code",
   "execution_count": 49,
   "metadata": {},
   "outputs": [
    {
     "output_type": "execute_result",
     "data": {
      "text/plain": "         crash_id                  lat_long     date_time_id  description_id  \\\n0       WA8912422  (-32.012631, 115.947456)     2015-1-1-4-0         1343750   \n1       WA9030342  (-32.012631, 115.947456)   2015-2-10-2-13         1341646   \n2       WA9104613  (-32.012631, 115.947456)    2015-7-1-3-16         1356896   \n3       WA9531365  (-32.012631, 115.947456)   2017-2-23-4-18         1429279   \n4       WA9699680  (-32.012631, 115.947456)  2017-12-12-2-18         1454043   \n...           ...                       ...              ...             ...   \n118379  WA9653765   (-31.51858, 116.457295)    2017-11-7-2-3         1457821   \n118380  WA9693150  (-31.902763, 115.860965)  2017-11-11-6-23         1457841   \n118381  WA9675335  (-31.932469, 115.888382)   2017-11-11-6-5         1457844   \n118382  WA9654614   (-33.707034, 121.58763)   2017-10-24-2-0         1457913   \n118383  WA9701819   (-32.14716, 115.860083)  2017-12-15-5-12         1457935   \n\n       vehicles_id casualties_id  Unnamed: 0  year  month  day_of_week  \\\n0               1o           NaN      242096  2015    1.0          4.0   \n1             1b1o           NaN      243675  2015    2.0          2.0   \n2               2o           NaN      249609  2015    7.0          3.0   \n3               2o           NaN      273858  2017    2.0          4.0   \n4             1b1o           NaN      284059  2017   12.0          2.0   \n...            ...           ...         ...   ...    ...          ...   \n118379          1o           NaN     1457821  2017   11.0          2.0   \n118380          1o           NaN     1457830  2017   11.0          6.0   \n118381          2o           NaN     1457844  2017   11.0          6.0   \n118382          1o           NaN     1457913  2017   10.0          2.0   \n118383          2o           NaN     1457935  2017   12.0          5.0   \n\n        day_of_month  hour  approximate   latitude   longitude country state  \\\n0                1.0   0.0        False -32.012631  115.947456      AU    WA   \n1               10.0  13.0        False -32.012631  115.947456      AU    WA   \n2                1.0  16.0        False -32.012631  115.947456      AU    WA   \n3               23.0  18.0        False -32.012631  115.947456      AU    WA   \n4               12.0  18.0        False -32.012631  115.947456      AU    WA   \n...              ...   ...          ...        ...         ...     ...   ...   \n118379           7.0   3.0        False -31.518580  116.457295      AU    WA   \n118380          11.0  23.0        False -31.902763  115.860965      AU    WA   \n118381          11.0   5.0        False -31.932469  115.888382      AU    WA   \n118382          24.0   0.0        False -33.707034  121.587630      AU    WA   \n118383          15.0  12.0        False -32.147160  115.860083      AU    WA   \n\n       local_government_area statistical_area suburb  \n0                        NaN              NaN    NaN  \n1                        NaN              NaN    NaN  \n2                        NaN              NaN    NaN  \n3                        NaN              NaN    NaN  \n4                        NaN              NaN    NaN  \n...                      ...              ...    ...  \n118379                   NaN              NaN    NaN  \n118380                   NaN              NaN    NaN  \n118381                   NaN              NaN    NaN  \n118382                   NaN              NaN    NaN  \n118383                   NaN              NaN    NaN  \n\n[118384 rows x 20 columns]",
      "text/html": "<div>\n<style scoped>\n    .dataframe tbody tr th:only-of-type {\n        vertical-align: middle;\n    }\n\n    .dataframe tbody tr th {\n        vertical-align: top;\n    }\n\n    .dataframe thead th {\n        text-align: right;\n    }\n</style>\n<table border=\"1\" class=\"dataframe\">\n  <thead>\n    <tr style=\"text-align: right;\">\n      <th></th>\n      <th>crash_id</th>\n      <th>lat_long</th>\n      <th>date_time_id</th>\n      <th>description_id</th>\n      <th>vehicles_id</th>\n      <th>casualties_id</th>\n      <th>Unnamed: 0</th>\n      <th>year</th>\n      <th>month</th>\n      <th>day_of_week</th>\n      <th>day_of_month</th>\n      <th>hour</th>\n      <th>approximate</th>\n      <th>latitude</th>\n      <th>longitude</th>\n      <th>country</th>\n      <th>state</th>\n      <th>local_government_area</th>\n      <th>statistical_area</th>\n      <th>suburb</th>\n    </tr>\n  </thead>\n  <tbody>\n    <tr>\n      <th>0</th>\n      <td>WA8912422</td>\n      <td>(-32.012631, 115.947456)</td>\n      <td>2015-1-1-4-0</td>\n      <td>1343750</td>\n      <td>1o</td>\n      <td>NaN</td>\n      <td>242096</td>\n      <td>2015</td>\n      <td>1.0</td>\n      <td>4.0</td>\n      <td>1.0</td>\n      <td>0.0</td>\n      <td>False</td>\n      <td>-32.012631</td>\n      <td>115.947456</td>\n      <td>AU</td>\n      <td>WA</td>\n      <td>NaN</td>\n      <td>NaN</td>\n      <td>NaN</td>\n    </tr>\n    <tr>\n      <th>1</th>\n      <td>WA9030342</td>\n      <td>(-32.012631, 115.947456)</td>\n      <td>2015-2-10-2-13</td>\n      <td>1341646</td>\n      <td>1b1o</td>\n      <td>NaN</td>\n      <td>243675</td>\n      <td>2015</td>\n      <td>2.0</td>\n      <td>2.0</td>\n      <td>10.0</td>\n      <td>13.0</td>\n      <td>False</td>\n      <td>-32.012631</td>\n      <td>115.947456</td>\n      <td>AU</td>\n      <td>WA</td>\n      <td>NaN</td>\n      <td>NaN</td>\n      <td>NaN</td>\n    </tr>\n    <tr>\n      <th>2</th>\n      <td>WA9104613</td>\n      <td>(-32.012631, 115.947456)</td>\n      <td>2015-7-1-3-16</td>\n      <td>1356896</td>\n      <td>2o</td>\n      <td>NaN</td>\n      <td>249609</td>\n      <td>2015</td>\n      <td>7.0</td>\n      <td>3.0</td>\n      <td>1.0</td>\n      <td>16.0</td>\n      <td>False</td>\n      <td>-32.012631</td>\n      <td>115.947456</td>\n      <td>AU</td>\n      <td>WA</td>\n      <td>NaN</td>\n      <td>NaN</td>\n      <td>NaN</td>\n    </tr>\n    <tr>\n      <th>3</th>\n      <td>WA9531365</td>\n      <td>(-32.012631, 115.947456)</td>\n      <td>2017-2-23-4-18</td>\n      <td>1429279</td>\n      <td>2o</td>\n      <td>NaN</td>\n      <td>273858</td>\n      <td>2017</td>\n      <td>2.0</td>\n      <td>4.0</td>\n      <td>23.0</td>\n      <td>18.0</td>\n      <td>False</td>\n      <td>-32.012631</td>\n      <td>115.947456</td>\n      <td>AU</td>\n      <td>WA</td>\n      <td>NaN</td>\n      <td>NaN</td>\n      <td>NaN</td>\n    </tr>\n    <tr>\n      <th>4</th>\n      <td>WA9699680</td>\n      <td>(-32.012631, 115.947456)</td>\n      <td>2017-12-12-2-18</td>\n      <td>1454043</td>\n      <td>1b1o</td>\n      <td>NaN</td>\n      <td>284059</td>\n      <td>2017</td>\n      <td>12.0</td>\n      <td>2.0</td>\n      <td>12.0</td>\n      <td>18.0</td>\n      <td>False</td>\n      <td>-32.012631</td>\n      <td>115.947456</td>\n      <td>AU</td>\n      <td>WA</td>\n      <td>NaN</td>\n      <td>NaN</td>\n      <td>NaN</td>\n    </tr>\n    <tr>\n      <th>...</th>\n      <td>...</td>\n      <td>...</td>\n      <td>...</td>\n      <td>...</td>\n      <td>...</td>\n      <td>...</td>\n      <td>...</td>\n      <td>...</td>\n      <td>...</td>\n      <td>...</td>\n      <td>...</td>\n      <td>...</td>\n      <td>...</td>\n      <td>...</td>\n      <td>...</td>\n      <td>...</td>\n      <td>...</td>\n      <td>...</td>\n      <td>...</td>\n      <td>...</td>\n    </tr>\n    <tr>\n      <th>118379</th>\n      <td>WA9653765</td>\n      <td>(-31.51858, 116.457295)</td>\n      <td>2017-11-7-2-3</td>\n      <td>1457821</td>\n      <td>1o</td>\n      <td>NaN</td>\n      <td>1457821</td>\n      <td>2017</td>\n      <td>11.0</td>\n      <td>2.0</td>\n      <td>7.0</td>\n      <td>3.0</td>\n      <td>False</td>\n      <td>-31.518580</td>\n      <td>116.457295</td>\n      <td>AU</td>\n      <td>WA</td>\n      <td>NaN</td>\n      <td>NaN</td>\n      <td>NaN</td>\n    </tr>\n    <tr>\n      <th>118380</th>\n      <td>WA9693150</td>\n      <td>(-31.902763, 115.860965)</td>\n      <td>2017-11-11-6-23</td>\n      <td>1457841</td>\n      <td>1o</td>\n      <td>NaN</td>\n      <td>1457830</td>\n      <td>2017</td>\n      <td>11.0</td>\n      <td>6.0</td>\n      <td>11.0</td>\n      <td>23.0</td>\n      <td>False</td>\n      <td>-31.902763</td>\n      <td>115.860965</td>\n      <td>AU</td>\n      <td>WA</td>\n      <td>NaN</td>\n      <td>NaN</td>\n      <td>NaN</td>\n    </tr>\n    <tr>\n      <th>118381</th>\n      <td>WA9675335</td>\n      <td>(-31.932469, 115.888382)</td>\n      <td>2017-11-11-6-5</td>\n      <td>1457844</td>\n      <td>2o</td>\n      <td>NaN</td>\n      <td>1457844</td>\n      <td>2017</td>\n      <td>11.0</td>\n      <td>6.0</td>\n      <td>11.0</td>\n      <td>5.0</td>\n      <td>False</td>\n      <td>-31.932469</td>\n      <td>115.888382</td>\n      <td>AU</td>\n      <td>WA</td>\n      <td>NaN</td>\n      <td>NaN</td>\n      <td>NaN</td>\n    </tr>\n    <tr>\n      <th>118382</th>\n      <td>WA9654614</td>\n      <td>(-33.707034, 121.58763)</td>\n      <td>2017-10-24-2-0</td>\n      <td>1457913</td>\n      <td>1o</td>\n      <td>NaN</td>\n      <td>1457913</td>\n      <td>2017</td>\n      <td>10.0</td>\n      <td>2.0</td>\n      <td>24.0</td>\n      <td>0.0</td>\n      <td>False</td>\n      <td>-33.707034</td>\n      <td>121.587630</td>\n      <td>AU</td>\n      <td>WA</td>\n      <td>NaN</td>\n      <td>NaN</td>\n      <td>NaN</td>\n    </tr>\n    <tr>\n      <th>118383</th>\n      <td>WA9701819</td>\n      <td>(-32.14716, 115.860083)</td>\n      <td>2017-12-15-5-12</td>\n      <td>1457935</td>\n      <td>2o</td>\n      <td>NaN</td>\n      <td>1457935</td>\n      <td>2017</td>\n      <td>12.0</td>\n      <td>5.0</td>\n      <td>15.0</td>\n      <td>12.0</td>\n      <td>False</td>\n      <td>-32.147160</td>\n      <td>115.860083</td>\n      <td>AU</td>\n      <td>WA</td>\n      <td>NaN</td>\n      <td>NaN</td>\n      <td>NaN</td>\n    </tr>\n  </tbody>\n</table>\n<p>118384 rows × 20 columns</p>\n</div>"
     },
     "metadata": {},
     "execution_count": 49
    }
   ],
   "source": [
    "merge_crash_date_state_df = pd.merge(merge_crash_date_df,clean_location_df,on=\"lat_long\",how=\"inner\")\n",
    "merge_crash_date_state_df"
   ]
  },
  {
   "cell_type": "code",
   "execution_count": 50,
   "metadata": {
    "tags": []
   },
   "outputs": [
    {
     "output_type": "stream",
     "name": "stdout",
     "text": "<class 'pandas.core.frame.DataFrame'>\nInt64Index: 118384 entries, 0 to 118383\nData columns (total 20 columns):\n #   Column                 Non-Null Count   Dtype  \n---  ------                 --------------   -----  \n 0   crash_id               118384 non-null  object \n 1   lat_long               118384 non-null  object \n 2   date_time_id           118384 non-null  object \n 3   description_id         118384 non-null  int64  \n 4   vehicles_id            116094 non-null  object \n 5   casualties_id          0 non-null       object \n 6   Unnamed: 0             118384 non-null  int64  \n 7   year                   118384 non-null  int64  \n 8   month                  118384 non-null  float64\n 9   day_of_week            118384 non-null  float64\n 10  day_of_month           118384 non-null  float64\n 11  hour                   118384 non-null  float64\n 12  approximate            118384 non-null  bool   \n 13  latitude               118384 non-null  float64\n 14  longitude              118384 non-null  float64\n 15  country                118384 non-null  object \n 16  state                  118384 non-null  object \n 17  local_government_area  0 non-null       object \n 18  statistical_area       0 non-null       object \n 19  suburb                 0 non-null       object \ndtypes: bool(1), float64(6), int64(3), object(10)\nmemory usage: 18.2+ MB\n"
    }
   ],
   "source": [
    "main_data = merge_crash_date_state_df\n",
    "main_data.info()"
   ]
  },
  {
   "cell_type": "code",
   "execution_count": 51,
   "metadata": {
    "tags": []
   },
   "outputs": [
    {
     "output_type": "stream",
     "name": "stdout",
     "text": "<class 'pandas.core.frame.DataFrame'>\nInt64Index: 118384 entries, 0 to 118383\nData columns (total 36 columns):\n #   Column                    Non-Null Count   Dtype  \n---  ------                    --------------   -----  \n 0   crash_id                  118384 non-null  object \n 1   lat_long                  118384 non-null  object \n 2   date_time_id              118384 non-null  object \n 3   description_id            118384 non-null  int64  \n 4   vehicles_id               116094 non-null  object \n 5   casualties_id             0 non-null       object \n 6   Unnamed: 0_x              118384 non-null  int64  \n 7   year                      118384 non-null  int64  \n 8   month                     118384 non-null  float64\n 9   day_of_week               118384 non-null  float64\n 10  day_of_month              118384 non-null  float64\n 11  hour                      118384 non-null  float64\n 12  approximate               118384 non-null  bool   \n 13  latitude                  118384 non-null  float64\n 14  longitude                 118384 non-null  float64\n 15  country                   118384 non-null  object \n 16  state                     118384 non-null  object \n 17  local_government_area     0 non-null       object \n 18  statistical_area          0 non-null       object \n 19  suburb                    0 non-null       object \n 20  Unnamed: 0_y              118384 non-null  int64  \n 21  severity                  118384 non-null  object \n 22  speed_limit               0 non-null       object \n 23  midblock                  118384 non-null  bool   \n 24  intersection              118384 non-null  bool   \n 25  road_position_horizontal  0 non-null       object \n 26  road_position_vertical    0 non-null       object \n 27  road_sealed               0 non-null       object \n 28  road_wet                  0 non-null       object \n 29  weather                   0 non-null       object \n 30  crash_type                26663 non-null   object \n 31  lighting                  0 non-null       object \n 32  traffic_controls          0 non-null       object \n 33  drugs_alcohol             0 non-null       object \n 34  DCA_code                  0 non-null       float64\n 35  comment                   0 non-null       object \ndtypes: bool(3), float64(7), int64(4), object(22)\nmemory usage: 31.0+ MB\n"
    }
   ],
   "source": [
    "main_data = pd.merge(main_data,description_df,on=\"description_id\",how=\"inner\")\n",
    "main_data.info()"
   ]
  },
  {
   "cell_type": "code",
   "execution_count": 57,
   "metadata": {
    "tags": []
   },
   "outputs": [
    {
     "output_type": "stream",
     "name": "stdout",
     "text": "<class 'pandas.core.frame.DataFrame'>\nInt64Index: 118384 entries, 0 to 118383\nData columns (total 21 columns):\n #   Column          Non-Null Count   Dtype  \n---  ------          --------------   -----  \n 0   crash_id        118384 non-null  object \n 1   lat_long        118384 non-null  object \n 2   date_time_id    118384 non-null  object \n 3   description_id  118384 non-null  int64  \n 4   vehicles_id     116094 non-null  object \n 5   Unnamed: 0_x    118384 non-null  int64  \n 6   year            118384 non-null  int64  \n 7   month           118384 non-null  float64\n 8   day_of_week     118384 non-null  float64\n 9   day_of_month    118384 non-null  float64\n 10  hour            118384 non-null  float64\n 11  approximate     118384 non-null  bool   \n 12  latitude        118384 non-null  float64\n 13  longitude       118384 non-null  float64\n 14  country         118384 non-null  object \n 15  state           118384 non-null  object \n 16  Unnamed: 0_y    118384 non-null  int64  \n 17  severity        118384 non-null  object \n 18  midblock        118384 non-null  bool   \n 19  intersection    118384 non-null  bool   \n 20  crash_type      26663 non-null   object \ndtypes: bool(3), float64(6), int64(4), object(8)\nmemory usage: 17.5+ MB\n"
    }
   ],
   "source": [
    "main_data2 = main_data.dropna(how='all', axis=1)\n",
    "main_data2.info()"
   ]
  },
  {
   "cell_type": "code",
   "execution_count": 64,
   "metadata": {},
   "outputs": [],
   "source": [
    "crash_data = main_data2.drop([\"date_time_id\",\"description_id\",\"vehicles_id\",\"Unnamed: 0_x\",\"Unnamed: 0_y\",\"country\",\"state\",\"approximate\"],axis=1)"
   ]
  },
  {
   "cell_type": "code",
   "execution_count": 66,
   "metadata": {
    "tags": []
   },
   "outputs": [
    {
     "output_type": "execute_result",
     "data": {
      "text/plain": "    crash_id                  lat_long  year  month  day_of_week  \\\n0  WA8912422  (-32.012631, 115.947456)  2015    1.0          4.0   \n1  WA9030342  (-32.012631, 115.947456)  2015    2.0          2.0   \n2  WA9104613  (-32.012631, 115.947456)  2015    7.0          3.0   \n3  WA9531365  (-32.012631, 115.947456)  2017    2.0          4.0   \n4  WA9699680  (-32.012631, 115.947456)  2017   12.0          2.0   \n\n   day_of_month  hour   latitude   longitude         severity  midblock  \\\n0           1.0   0.0 -32.012631  115.947456     minor_injury     False   \n1          10.0  13.0 -32.012631  115.947456  property_damage     False   \n2           1.0  16.0 -32.012631  115.947456  property_damage     False   \n3          23.0  18.0 -32.012631  115.947456  property_damage     False   \n4          12.0  18.0 -32.012631  115.947456  property_damage     False   \n\n   intersection crash_type  \n0          True        NaN  \n1          True        NaN  \n2          True        NaN  \n3          True        NaN  \n4          True        NaN  ",
      "text/html": "<div>\n<style scoped>\n    .dataframe tbody tr th:only-of-type {\n        vertical-align: middle;\n    }\n\n    .dataframe tbody tr th {\n        vertical-align: top;\n    }\n\n    .dataframe thead th {\n        text-align: right;\n    }\n</style>\n<table border=\"1\" class=\"dataframe\">\n  <thead>\n    <tr style=\"text-align: right;\">\n      <th></th>\n      <th>crash_id</th>\n      <th>lat_long</th>\n      <th>year</th>\n      <th>month</th>\n      <th>day_of_week</th>\n      <th>day_of_month</th>\n      <th>hour</th>\n      <th>latitude</th>\n      <th>longitude</th>\n      <th>severity</th>\n      <th>midblock</th>\n      <th>intersection</th>\n      <th>crash_type</th>\n    </tr>\n  </thead>\n  <tbody>\n    <tr>\n      <th>0</th>\n      <td>WA8912422</td>\n      <td>(-32.012631, 115.947456)</td>\n      <td>2015</td>\n      <td>1.0</td>\n      <td>4.0</td>\n      <td>1.0</td>\n      <td>0.0</td>\n      <td>-32.012631</td>\n      <td>115.947456</td>\n      <td>minor_injury</td>\n      <td>False</td>\n      <td>True</td>\n      <td>NaN</td>\n    </tr>\n    <tr>\n      <th>1</th>\n      <td>WA9030342</td>\n      <td>(-32.012631, 115.947456)</td>\n      <td>2015</td>\n      <td>2.0</td>\n      <td>2.0</td>\n      <td>10.0</td>\n      <td>13.0</td>\n      <td>-32.012631</td>\n      <td>115.947456</td>\n      <td>property_damage</td>\n      <td>False</td>\n      <td>True</td>\n      <td>NaN</td>\n    </tr>\n    <tr>\n      <th>2</th>\n      <td>WA9104613</td>\n      <td>(-32.012631, 115.947456)</td>\n      <td>2015</td>\n      <td>7.0</td>\n      <td>3.0</td>\n      <td>1.0</td>\n      <td>16.0</td>\n      <td>-32.012631</td>\n      <td>115.947456</td>\n      <td>property_damage</td>\n      <td>False</td>\n      <td>True</td>\n      <td>NaN</td>\n    </tr>\n    <tr>\n      <th>3</th>\n      <td>WA9531365</td>\n      <td>(-32.012631, 115.947456)</td>\n      <td>2017</td>\n      <td>2.0</td>\n      <td>4.0</td>\n      <td>23.0</td>\n      <td>18.0</td>\n      <td>-32.012631</td>\n      <td>115.947456</td>\n      <td>property_damage</td>\n      <td>False</td>\n      <td>True</td>\n      <td>NaN</td>\n    </tr>\n    <tr>\n      <th>4</th>\n      <td>WA9699680</td>\n      <td>(-32.012631, 115.947456)</td>\n      <td>2017</td>\n      <td>12.0</td>\n      <td>2.0</td>\n      <td>12.0</td>\n      <td>18.0</td>\n      <td>-32.012631</td>\n      <td>115.947456</td>\n      <td>property_damage</td>\n      <td>False</td>\n      <td>True</td>\n      <td>NaN</td>\n    </tr>\n  </tbody>\n</table>\n</div>"
     },
     "metadata": {},
     "execution_count": 66
    }
   ],
   "source": [
    "crash_data.head()"
   ]
  },
  {
   "cell_type": "code",
   "execution_count": 67,
   "metadata": {},
   "outputs": [],
   "source": [
    "crash_data.to_csv(\"crash_data.csv\")"
   ]
  },
  {
   "cell_type": "code",
   "execution_count": null,
   "metadata": {},
   "outputs": [],
   "source": []
  }
 ]
}